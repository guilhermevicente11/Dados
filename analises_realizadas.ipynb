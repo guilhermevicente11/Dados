{
  "cells": [
    {
      "cell_type": "markdown",
      "metadata": {
        "colab_type": "text",
        "id": "view-in-github"
      },
      "source": [
        "<a href=\"https://colab.research.google.com/github/guilhermevicente11/analise-dados-churn/blob/main/analises_realizadas.ipynb\" target=\"_parent\"><img src=\"https://colab.research.google.com/assets/colab-badge.svg\" alt=\"Open In Colab\"/></a>"
      ]
    },
    {
      "cell_type": "markdown",
      "metadata": {
        "id": "YyUfSXibMxFO"
      },
      "source": [
        "# ANÁLISE DOS COMPORTAMENTOS DAS VARIÁVEIS\n",
        "\n",
        "\n"
      ]
    },
    {
      "cell_type": "markdown",
      "metadata": {
        "id": "qLpafH7GP8R5"
      },
      "source": [
        "O dataset que foi analisado representa um banco de clientes de um banco que atua em três países: França,Alemanha e Espanha.\n",
        "\n",
        "A ideia desta análise é mapear o perfil dos clientes que saíram(exited = 1) da empresa e apresentar informações para um usuário externo.\n",
        "\n",
        "Para realizar a análise foram utilizadas as bibliotecas pandas,matplotlib e seaborn."
      ]
    },
    {
      "cell_type": "code",
      "execution_count": null,
      "metadata": {
        "id": "8nQKnpB0PWIS"
      },
      "outputs": [],
      "source": [
        "#importação das bibliotecas\n",
        "import pandas as pd\n",
        "import seaborn as sns\n",
        "import warnings\n",
        "import matplotlib.pyplot as plt\n",
        "warnings.filterwarnings(\"ignore\")\n"
      ]
    },
    {
      "cell_type": "code",
      "execution_count": null,
      "metadata": {
        "id": "VafC5P7wXuYp"
      },
      "outputs": [],
      "source": [
        "df = pd.read_csv('/content/churn.csv', sep=',')\n",
        "df.head(5)"
      ]
    },
    {
      "cell_type": "code",
      "execution_count": null,
      "metadata": {
        "id": "cVWx71HH-jcf"
      },
      "outputs": [],
      "source": [
        "df.drop(columns = ['CustomerId', 'Surname'], inplace = True)"
      ]
    },
    {
      "cell_type": "code",
      "execution_count": null,
      "metadata": {
        "id": "7nD54bBdkc0C"
      },
      "outputs": [],
      "source": [
        "warnings.filterwarnings(\"ignore\")\n",
        "saida_pessoal = df.loc[df.Exited == 1]\n",
        "fica_pessoal = df.query('Exited == 0')"
      ]
    },
    {
      "cell_type": "markdown",
      "metadata": {
        "id": "E7yLuQxLPQhS"
      },
      "source": [
        "# 2. Primeiras análises "
      ]
    },
    {
      "cell_type": "code",
      "execution_count": null,
      "metadata": {
        "id": "xvrdliKoYqAC"
      },
      "outputs": [],
      "source": [
        "#contar a quanitdade de clientes que saíram\n",
        "df[\"Exited\"].value_counts()\n",
        "sns.countplot('Geography', hue = 'Exited', data = df)\n",
        "plt.show()"
      ]
    },
    {
      "cell_type": "code",
      "execution_count": null,
      "metadata": {
        "colab": {
          "base_uri": "https://localhost:8080/"
        },
        "id": "HWfyGKJafu11",
        "outputId": "edbd47d2-ac3d-44c4-e54c-39ea71b8c465"
      },
      "outputs": [
        {
          "data": {
            "text/plain": [
              "Male      5457\n",
              "Female    4543\n",
              "Name: Gender, dtype: int64"
            ]
          },
          "execution_count": 33,
          "metadata": {},
          "output_type": "execute_result"
        }
      ],
      "source": [
        "#contar a quantidade por gênero\n",
        "df['Gender'].value_counts()\n"
      ]
    },
    {
      "cell_type": "code",
      "execution_count": null,
      "metadata": {
        "colab": {
          "base_uri": "https://localhost:8080/"
        },
        "id": "b8BzWgkTg5p8",
        "outputId": "e26e0928-7daf-495f-df38-fcd3bbefb2c8"
      },
      "outputs": [
        {
          "data": {
            "text/plain": [
              "France     5014\n",
              "Germany    2509\n",
              "Spain      2477\n",
              "Name: Geography, dtype: int64"
            ]
          },
          "execution_count": 34,
          "metadata": {},
          "output_type": "execute_result"
        }
      ],
      "source": [
        "#contar a quantidade por país\n",
        "df['Geography'].value_counts()"
      ]
    },
    {
      "cell_type": "code",
      "execution_count": null,
      "metadata": {
        "id": "uKlZgdaPn_Ar"
      },
      "outputs": [],
      "source": [
        "fig, ax = plt.subplots(3, 2, figsize = (20, 15))\n",
        "\n",
        "\n",
        "sns.countplot('Geography',data = saida_pessoal, ax = ax[0][0]) #CONTAR A QTD QUE SAIU POR PAÍS\n",
        "sns.countplot('Gender', data = saida_pessoal,ax = ax[0][1])\n",
        "\n",
        "plt.tight_layout()\n",
        "plt.show()"
      ]
    },
    {
      "cell_type": "code",
      "execution_count": null,
      "metadata": {
        "colab": {
          "base_uri": "https://localhost:8080/",
          "height": 285
        },
        "id": "rzNDipkOEnfY",
        "outputId": "11ec3e36-5fa4-4855-86fa-5f1054660206"
      },
      "outputs": [
        {
          "data": {
            "image/png": "[encoded data removed]",
            "text/plain": [
              "<Figure size 432x288 with 1 Axes>"
            ]
          },
          "metadata": {},
          "output_type": "display_data"
        }
      ],
      "source": [
        "#saida por genero\n",
        "saida_pessoal = df.loc[df.Exited == 1]\n",
        "saida_sexo = saida_pessoal[\"Gender\"]\n",
        "saida_sexo.value_counts()\n",
        "sns.countplot('Gender', data = saida_pessoal)\n",
        "plt.show()"
      ]
    },
    {
      "cell_type": "code",
      "execution_count": null,
      "metadata": {
        "colab": {
          "base_uri": "https://localhost:8080/"
        },
        "id": "zod9chO5FZHu",
        "outputId": "a1ba692c-97cb-4006-c42b-5a993e47fa63"
      },
      "outputs": [
        {
          "data": {
            "text/plain": [
              "Germany    814\n",
              "France     810\n",
              "Spain      413\n",
              "Name: Geography, dtype: int64"
            ]
          },
          "execution_count": 37,
          "metadata": {},
          "output_type": "execute_result"
        }
      ],
      "source": [
        "#saida por pais\n",
        "saida_pais = saida_pessoal[\"Geography\"]\n",
        "saida_pais.value_counts()\n",
        "#sns.countplot('Geography', hue = 'Exited', data = saida_pessoal)"
      ]
    },
    {
      "cell_type": "code",
      "execution_count": null,
      "metadata": {
        "colab": {
          "base_uri": "https://localhost:8080/"
        },
        "id": "UREZrQCEegwK",
        "outputId": "051888a2-6807-49af-b15f-2f83feaae1f8"
      },
      "outputs": [
        {
          "data": {
            "text/plain": [
              "Age    45.0\n",
              "dtype: float64"
            ]
          },
          "execution_count": 38,
          "metadata": {},
          "output_type": "execute_result"
        }
      ],
      "source": [
        "#media de idade do pessoal que saiu\n",
        "saida_pessoal = df.loc[df.Exited == 1]\n",
        "saida_idade = saida_pessoal[[\"Age\",]]\n",
        "saida_idade.mean().round(0)"
      ]
    },
    {
      "cell_type": "code",
      "execution_count": null,
      "metadata": {
        "colab": {
          "base_uri": "https://localhost:8080/",
          "height": 363
        },
        "id": "ogwovpWlDkeZ",
        "outputId": "276300af-5f34-46cf-a83f-1ec79e4e55b7"
      },
      "outputs": [
        {
          "data": {
            "text/html": [
              "\n",
              "  <div id=\"df-f99c634d-2f49-4c52-a0c7-31e7995454a7\">\n",
              "    <div class=\"colab-df-container\">\n",
              "      <div>\n",
              "<style scoped>\n",
              "    .dataframe tbody tr th:only-of-type {\n",
              "        vertical-align: middle;\n",
              "    }\n",
              "\n",
              "    .dataframe tbody tr th {\n",
              "        vertical-align: top;\n",
              "    }\n",
              "\n",
              "    .dataframe thead th {\n",
              "        text-align: right;\n",
              "    }\n",
              "</style>\n",
              "<table border=\"1\" class=\"dataframe\">\n",
              "  <thead>\n",
              "    <tr style=\"text-align: right;\">\n",
              "      <th></th>\n",
              "      <th>RowNumber</th>\n",
              "      <th>CreditScore</th>\n",
              "      <th>Age</th>\n",
              "      <th>Tenure</th>\n",
              "      <th>Balance</th>\n",
              "      <th>NumOfProducts</th>\n",
              "      <th>HasCrCard</th>\n",
              "      <th>IsActiveMember</th>\n",
              "      <th>EstimatedSalary</th>\n",
              "      <th>Exited</th>\n",
              "    </tr>\n",
              "  </thead>\n",
              "  <tbody>\n",
              "    <tr>\n",
              "      <th>RowNumber</th>\n",
              "      <td>1.00</td>\n",
              "      <td>0.02</td>\n",
              "      <td>-0.00</td>\n",
              "      <td>-0.01</td>\n",
              "      <td>0.02</td>\n",
              "      <td>0.02</td>\n",
              "      <td>-0.01</td>\n",
              "      <td>0.05</td>\n",
              "      <td>-0.00</td>\n",
              "      <td>NaN</td>\n",
              "    </tr>\n",
              "    <tr>\n",
              "      <th>CreditScore</th>\n",
              "      <td>0.02</td>\n",
              "      <td>1.00</td>\n",
              "      <td>-0.01</td>\n",
              "      <td>0.03</td>\n",
              "      <td>0.02</td>\n",
              "      <td>0.00</td>\n",
              "      <td>-0.01</td>\n",
              "      <td>-0.00</td>\n",
              "      <td>-0.06</td>\n",
              "      <td>NaN</td>\n",
              "    </tr>\n",
              "    <tr>\n",
              "      <th>Age</th>\n",
              "      <td>-0.00</td>\n",
              "      <td>-0.01</td>\n",
              "      <td>1.00</td>\n",
              "      <td>-0.02</td>\n",
              "      <td>-0.02</td>\n",
              "      <td>-0.01</td>\n",
              "      <td>-0.03</td>\n",
              "      <td>-0.01</td>\n",
              "      <td>-0.00</td>\n",
              "      <td>NaN</td>\n",
              "    </tr>\n",
              "    <tr>\n",
              "      <th>Tenure</th>\n",
              "      <td>-0.01</td>\n",
              "      <td>0.03</td>\n",
              "      <td>-0.02</td>\n",
              "      <td>1.00</td>\n",
              "      <td>0.03</td>\n",
              "      <td>0.02</td>\n",
              "      <td>0.00</td>\n",
              "      <td>-0.04</td>\n",
              "      <td>0.05</td>\n",
              "      <td>NaN</td>\n",
              "    </tr>\n",
              "    <tr>\n",
              "      <th>Balance</th>\n",
              "      <td>0.02</td>\n",
              "      <td>0.02</td>\n",
              "      <td>-0.02</td>\n",
              "      <td>0.03</td>\n",
              "      <td>1.00</td>\n",
              "      <td>-0.02</td>\n",
              "      <td>-0.01</td>\n",
              "      <td>0.00</td>\n",
              "      <td>-0.01</td>\n",
              "      <td>NaN</td>\n",
              "    </tr>\n",
              "    <tr>\n",
              "      <th>NumOfProducts</th>\n",
              "      <td>0.02</td>\n",
              "      <td>0.00</td>\n",
              "      <td>-0.01</td>\n",
              "      <td>0.02</td>\n",
              "      <td>-0.02</td>\n",
              "      <td>1.00</td>\n",
              "      <td>-0.01</td>\n",
              "      <td>0.06</td>\n",
              "      <td>0.03</td>\n",
              "      <td>NaN</td>\n",
              "    </tr>\n",
              "    <tr>\n",
              "      <th>HasCrCard</th>\n",
              "      <td>-0.01</td>\n",
              "      <td>-0.01</td>\n",
              "      <td>-0.03</td>\n",
              "      <td>0.00</td>\n",
              "      <td>-0.01</td>\n",
              "      <td>-0.01</td>\n",
              "      <td>1.00</td>\n",
              "      <td>-0.07</td>\n",
              "      <td>-0.02</td>\n",
              "      <td>NaN</td>\n",
              "    </tr>\n",
              "    <tr>\n",
              "      <th>IsActiveMember</th>\n",
              "      <td>0.05</td>\n",
              "      <td>-0.00</td>\n",
              "      <td>-0.01</td>\n",
              "      <td>-0.04</td>\n",
              "      <td>0.00</td>\n",
              "      <td>0.06</td>\n",
              "      <td>-0.07</td>\n",
              "      <td>1.00</td>\n",
              "      <td>-0.01</td>\n",
              "      <td>NaN</td>\n",
              "    </tr>\n",
              "    <tr>\n",
              "      <th>EstimatedSalary</th>\n",
              "      <td>-0.00</td>\n",
              "      <td>-0.06</td>\n",
              "      <td>-0.00</td>\n",
              "      <td>0.05</td>\n",
              "      <td>-0.01</td>\n",
              "      <td>0.03</td>\n",
              "      <td>-0.02</td>\n",
              "      <td>-0.01</td>\n",
              "      <td>1.00</td>\n",
              "      <td>NaN</td>\n",
              "    </tr>\n",
              "    <tr>\n",
              "      <th>Exited</th>\n",
              "      <td>NaN</td>\n",
              "      <td>NaN</td>\n",
              "      <td>NaN</td>\n",
              "      <td>NaN</td>\n",
              "      <td>NaN</td>\n",
              "      <td>NaN</td>\n",
              "      <td>NaN</td>\n",
              "      <td>NaN</td>\n",
              "      <td>NaN</td>\n",
              "      <td>NaN</td>\n",
              "    </tr>\n",
              "  </tbody>\n",
              "</table>\n",
              "</div>\n",
              "      <button class=\"colab-df-convert\" onclick=\"convertToInteractive('df-f99c634d-2f49-4c52-a0c7-31e7995454a7')\"\n",
              "              title=\"Convert this dataframe to an interactive table.\"\n",
              "              style=\"display:none;\">\n",
              "        \n",
              "  <svg xmlns=\"http://www.w3.org/2000/svg\" height=\"24px\"viewBox=\"0 0 24 24\"\n",
              "       width=\"24px\">\n",
              "    <path d=\"M0 0h24v24H0V0z\" fill=\"none\"/>\n",
              "    <path d=\"M18.56 5.44l.94 2.06.94-2.06 2.06-.94-2.06-.94-.94-2.06-.94 2.06-2.06.94zm-11 1L8.5 8.5l.94-2.06 2.06-.94-2.06-.94L8.5 2.5l-.94 2.06-2.06.94zm10 10l.94 2.06.94-2.06 2.06-.94-2.06-.94-.94-2.06-.94 2.06-2.06.94z\"/><path d=\"M17.41 7.96l-1.37-1.37c-.4-.4-.92-.59-1.43-.59-.52 0-1.04.2-1.43.59L10.3 9.45l-7.72 7.72c-.78.78-.78 2.05 0 2.83L4 21.41c.39.39.9.59 1.41.59.51 0 1.02-.2 1.41-.59l7.78-7.78 2.81-2.81c.8-.78.8-2.07 0-2.86zM5.41 20L4 18.59l7.72-7.72 1.47 1.35L5.41 20z\"/>\n",
              "  </svg>\n",
              "      </button>\n",
              "      \n",
              "  <style>\n",
              "    .colab-df-container {\n",
              "      display:flex;\n",
              "      flex-wrap:wrap;\n",
              "      gap: 12px;\n",
              "    }\n",
              "\n",
              "    .colab-df-convert {\n",
              "      background-color: #E8F0FE;\n",
              "      border: none;\n",
              "      border-radius: 50%;\n",
              "      cursor: pointer;\n",
              "      display: none;\n",
              "      fill: #1967D2;\n",
              "      height: 32px;\n",
              "      padding: 0 0 0 0;\n",
              "      width: 32px;\n",
              "    }\n",
              "\n",
              "    .colab-df-convert:hover {\n",
              "      background-color: #E2EBFA;\n",
              "      box-shadow: 0px 1px 2px rgba(60, 64, 67, 0.3), 0px 1px 3px 1px rgba(60, 64, 67, 0.15);\n",
              "      fill: #174EA6;\n",
              "    }\n",
              "\n",
              "    [theme=dark] .colab-df-convert {\n",
              "      background-color: #3B4455;\n",
              "      fill: #D2E3FC;\n",
              "    }\n",
              "\n",
              "    [theme=dark] .colab-df-convert:hover {\n",
              "      background-color: #434B5C;\n",
              "      box-shadow: 0px 1px 3px 1px rgba(0, 0, 0, 0.15);\n",
              "      filter: drop-shadow(0px 1px 2px rgba(0, 0, 0, 0.3));\n",
              "      fill: #FFFFFF;\n",
              "    }\n",
              "  </style>\n",
              "\n",
              "      <script>\n",
              "        const buttonEl =\n",
              "          document.querySelector('#df-f99c634d-2f49-4c52-a0c7-31e7995454a7 button.colab-df-convert');\n",
              "        buttonEl.style.display =\n",
              "          google.colab.kernel.accessAllowed ? 'block' : 'none';\n",
              "\n",
              "        async function convertToInteractive(key) {\n",
              "          const element = document.querySelector('#df-f99c634d-2f49-4c52-a0c7-31e7995454a7');\n",
              "          const dataTable =\n",
              "            await google.colab.kernel.invokeFunction('convertToInteractive',\n",
              "                                                     [key], {});\n",
              "          if (!dataTable) return;\n",
              "\n",
              "          const docLinkHtml = 'Like what you see? Visit the ' +\n",
              "            '<a target=\"_blank\" href=https://colab.research.google.com/notebooks/data_table.ipynb>data table notebook</a>'\n",
              "            + ' to learn more about interactive tables.';\n",
              "          element.innerHTML = '';\n",
              "          dataTable['output_type'] = 'display_data';\n",
              "          await google.colab.output.renderOutput(dataTable, element);\n",
              "          const docLink = document.createElement('div');\n",
              "          docLink.innerHTML = docLinkHtml;\n",
              "          element.appendChild(docLink);\n",
              "        }\n",
              "      </script>\n",
              "    </div>\n",
              "  </div>\n",
              "  "
            ],
            "text/plain": [
              "                 RowNumber  CreditScore   Age  Tenure  Balance  NumOfProducts  \\\n",
              "RowNumber             1.00         0.02 -0.00   -0.01     0.02           0.02   \n",
              "CreditScore           0.02         1.00 -0.01    0.03     0.02           0.00   \n",
              "Age                  -0.00        -0.01  1.00   -0.02    -0.02          -0.01   \n",
              "Tenure               -0.01         0.03 -0.02    1.00     0.03           0.02   \n",
              "Balance               0.02         0.02 -0.02    0.03     1.00          -0.02   \n",
              "NumOfProducts         0.02         0.00 -0.01    0.02    -0.02           1.00   \n",
              "HasCrCard            -0.01        -0.01 -0.03    0.00    -0.01          -0.01   \n",
              "IsActiveMember        0.05        -0.00 -0.01   -0.04     0.00           0.06   \n",
              "EstimatedSalary      -0.00        -0.06 -0.00    0.05    -0.01           0.03   \n",
              "Exited                 NaN          NaN   NaN     NaN      NaN            NaN   \n",
              "\n",
              "                 HasCrCard  IsActiveMember  EstimatedSalary  Exited  \n",
              "RowNumber            -0.01            0.05            -0.00     NaN  \n",
              "CreditScore          -0.01           -0.00            -0.06     NaN  \n",
              "Age                  -0.03           -0.01            -0.00     NaN  \n",
              "Tenure                0.00           -0.04             0.05     NaN  \n",
              "Balance              -0.01            0.00            -0.01     NaN  \n",
              "NumOfProducts        -0.01            0.06             0.03     NaN  \n",
              "HasCrCard             1.00           -0.07            -0.02     NaN  \n",
              "IsActiveMember       -0.07            1.00            -0.01     NaN  \n",
              "EstimatedSalary      -0.02           -0.01             1.00     NaN  \n",
              "Exited                 NaN             NaN              NaN     NaN  "
            ]
          },
          "execution_count": 39,
          "metadata": {},
          "output_type": "execute_result"
        }
      ],
      "source": [
        "#correlação de saída por país\n",
        "saida_pessoal.corr().round(2)"
      ]
    },
    {
      "cell_type": "code",
      "execution_count": null,
      "metadata": {
        "colab": {
          "base_uri": "https://localhost:8080/"
        },
        "id": "aSjs3hFW21Oc",
        "outputId": "0cfc768b-b54d-4572-efc1-e9f1ad191fd5"
      },
      "outputs": [
        {
          "data": {
            "text/plain": [
              "Age    44.837997\n",
              "dtype: float64"
            ]
          },
          "execution_count": 40,
          "metadata": {},
          "output_type": "execute_result"
        }
      ],
      "source": [
        "#media de idade por galera que sai por país\n",
        "saida_pessoal = df.loc[df.Exited == 1]\n",
        "saida_pais = saida_pessoal[[\"Age\",\"Geography\"]]\n",
        "saida_pais.mean()"
      ]
    },
    {
      "cell_type": "code",
      "execution_count": null,
      "metadata": {
        "colab": {
          "base_uri": "https://localhost:8080/"
        },
        "id": "wtcVoFoKh1vf",
        "outputId": "bd62ebaf-e194-4821-b175-b8565b396b35"
      },
      "outputs": [
        {
          "data": {
            "text/plain": [
              "EstimatedSalary    101466.0\n",
              "dtype: float64"
            ]
          },
          "execution_count": 41,
          "metadata": {},
          "output_type": "execute_result"
        }
      ],
      "source": [
        "#media salario do pessoal que sai\n",
        "saida_pessoal = df.loc[df.Exited == 1]\n",
        "saida_salario = saida_pessoal[[\"EstimatedSalary\"]]\n",
        "saida_salario.mean().round(0)"
      ]
    },
    {
      "cell_type": "code",
      "execution_count": null,
      "metadata": {
        "colab": {
          "base_uri": "https://localhost:8080/"
        },
        "id": "IXhWk0GpkiFi",
        "outputId": "b8f2226d-f431-4592-a423-31e577b07736"
      },
      "outputs": [
        {
          "data": {
            "text/plain": [
              "CreditScore    650.5288\n",
              "dtype: float64"
            ]
          },
          "execution_count": 42,
          "metadata": {},
          "output_type": "execute_result"
        }
      ],
      "source": [
        "#score medio dos clientes\n",
        "df[[\"CreditScore\"]].mean()"
      ]
    },
    {
      "cell_type": "code",
      "execution_count": null,
      "metadata": {
        "id": "qKRuo1KukuaS"
      },
      "outputs": [],
      "source": [
        "#score medio dos clientes que ficam\n",
        "fica_pessoal = df.loc[df.Exited == 0]\n",
        "fica_score = fica_pessoal[[\"CreditScore\"]]\n",
        "score_media_fica = fica_score.mean()"
      ]
    },
    {
      "cell_type": "code",
      "execution_count": null,
      "metadata": {
        "id": "yAKHq1ftlIzc"
      },
      "outputs": [],
      "source": [
        "#score medio dos clientes que saem\n",
        "saida_pessoal = df.loc[df.Exited == 1]\n",
        "saida_score = saida_pessoal[[\"CreditScore\",\"Exited\"]]\n",
        "score_medio_saida = saida_score.mean()"
      ]
    },
    {
      "cell_type": "code",
      "execution_count": null,
      "metadata": {
        "id": "9vov6Ff9bjr3"
      },
      "outputs": [],
      "source": [
        "#remover colunas desnecessárias para a análise\n",
        "#df.drop(columns = ['RowNumber', 'CustomerId', 'Surname'], inplace = True)\n",
        "#df.head()"
      ]
    },
    {
      "cell_type": "code",
      "execution_count": null,
      "metadata": {
        "id": "6pVg3caHpDKH"
      },
      "outputs": [],
      "source": [
        "#identificar possíveis erros com salários baixos\n",
        "menor_1000 = df[df['EstimatedSalary']<=100]\n",
        "menor_1000"
      ]
    },
    {
      "cell_type": "code",
      "execution_count": null,
      "metadata": {
        "id": "AIBwHq9sc72U"
      },
      "outputs": [],
      "source": [
        "#saida pelo tenure\n",
        "saida_pessoal = df.loc[df.Exited == 1]\n",
        "saida_tenure = saida_pessoal[[\"Tenure\"]]\n",
        "saida_tenure.value_counts()"
      ]
    },
    {
      "cell_type": "code",
      "execution_count": null,
      "metadata": {
        "id": "TYN9v95FeDyu"
      },
      "outputs": [],
      "source": [
        "#saida produtos\n",
        "saida_pessoal = df.loc[df.Exited == 1]\n",
        "saida_produtos = saida_pessoal[[\"NumOfProducts\"]]\n",
        "saida_produtos.value_counts() \n",
        "\n",
        "sns.countplot('NumOfProducts', hue = 'Exited', data = saida_pessoal)\n",
        "plt.show()\n",
        "                               \n"
      ]
    },
    {
      "cell_type": "code",
      "execution_count": null,
      "metadata": {
        "id": "0bEZ4U7aSouF"
      },
      "outputs": [],
      "source": [
        "faixa4055 = df.query('40 <= Age <= 55')\n",
        "sns.countplot('Age', hue = 'Exited', data = faixa4055)"
      ]
    },
    {
      "cell_type": "code",
      "execution_count": null,
      "metadata": {
        "id": "YwzqbGk31wvi"
      },
      "outputs": [],
      "source": [
        "saida_pessoal.query('NumOfProducts == 1 & IsActiveMember == 0')"
      ]
    },
    {
      "cell_type": "code",
      "execution_count": null,
      "metadata": {
        "id": "wrs3vrmf6g5r"
      },
      "outputs": [],
      "source": [
        "#saida credit score #283fica #76sai\n",
        "saida_pessoal = df.loc[df.Exited == 0]\n",
        "saida_cs = saida_pessoal[[\"CreditScore\"]]\n",
        "saida_cs.value_counts()"
      ]
    },
    {
      "cell_type": "code",
      "execution_count": null,
      "metadata": {
        "id": "6ummVHUG7vR6"
      },
      "outputs": [],
      "source": [
        "#galera que saiu com score maior que 700 e salário maior que 60000.\n",
        "saiu_700 = df[(df.Exited == 1) & (df.CreditScore >= 700) & (df.EstimatedSalary >= 60000)]\n",
        "saiu_700.sort_values(by = \"EstimatedSalary\")"
      ]
    },
    {
      "cell_type": "code",
      "execution_count": null,
      "metadata": {
        "id": "cOzm3YUVVbVP"
      },
      "outputs": [],
      "source": [
        "def faixa_score (score):\n",
        "  if score <= 475:\n",
        "    return '0-475'\n",
        "  if score <= 600:\n",
        "    return '475-600'\n",
        "  if score <= 725:\n",
        "    return '600-725'\n",
        "  if score <= 850:\n",
        "    return '725-850'"
      ]
    },
    {
      "cell_type": "code",
      "execution_count": null,
      "metadata": {
        "id": "cMn9_O2gX9tN"
      },
      "outputs": [],
      "source": [
        "df['score_quali'] = [faixa_score(score) for score in df.CreditScore.to_list()]\n",
        "df['score_quali'].value_counts()"
      ]
    },
    {
      "cell_type": "code",
      "execution_count": null,
      "metadata": {
        "id": "MiLOC_oJYkLR"
      },
      "outputs": [],
      "source": [
        "saida_pelo_score = df.query(\"Exited == 1\")\n",
        "hist_age = sns.histplot(saida_pelo_score['score_quali'], kde= False, bins = 25 )\n",
        "hist_age.figure.set_size_inches(15, 5)\n",
        "hist_age.set_title('Distribuição de Frequências por score das pessoas que saíram', fontsize=20)\n",
        "hist_age.set_xlabel('Score', fontsize=16)\n",
        "hist_age\n",
        "plt.show()"
      ]
    },
    {
      "cell_type": "code",
      "execution_count": null,
      "metadata": {
        "colab": {
          "base_uri": "https://localhost:8080/"
        },
        "id": "gzjA9owAYhem",
        "outputId": "e6111bdf-9954-4dac-cbe5-2f9b7e73f393"
      },
      "outputs": [
        {
          "data": {
            "text/plain": [
              "600-725    910\n",
              "475-600    573\n",
              "725-850    462\n",
              "0-475       92\n",
              "Name: score_quali, dtype: int64"
            ]
          },
          "execution_count": 56,
          "metadata": {},
          "output_type": "execute_result"
        }
      ],
      "source": [
        "#galera que sai por faixa de score\n",
        "saida_pessoal = df.loc[df.Exited == 1]\n",
        "saida_quali = saida_pessoal['score_quali']\n",
        "saida_quali.value_counts()"
      ]
    },
    {
      "cell_type": "code",
      "execution_count": null,
      "metadata": {
        "colab": {
          "base_uri": "https://localhost:8080/",
          "height": 424
        },
        "id": "VKhhiJgzT4Gi",
        "outputId": "578d3b34-4119-43de-b54d-11d9c39fe213"
      },
      "outputs": [
        {
          "data": {
            "text/html": [
              "\n",
              "  <div id=\"df-d02532b9-cd44-45b5-a1af-7d99bfcced43\">\n",
              "    <div class=\"colab-df-container\">\n",
              "      <div>\n",
              "<style scoped>\n",
              "    .dataframe tbody tr th:only-of-type {\n",
              "        vertical-align: middle;\n",
              "    }\n",
              "\n",
              "    .dataframe tbody tr th {\n",
              "        vertical-align: top;\n",
              "    }\n",
              "\n",
              "    .dataframe thead th {\n",
              "        text-align: right;\n",
              "    }\n",
              "</style>\n",
              "<table border=\"1\" class=\"dataframe\">\n",
              "  <thead>\n",
              "    <tr style=\"text-align: right;\">\n",
              "      <th></th>\n",
              "      <th>RowNumber</th>\n",
              "      <th>CreditScore</th>\n",
              "      <th>Geography</th>\n",
              "      <th>Gender</th>\n",
              "      <th>Age</th>\n",
              "      <th>Tenure</th>\n",
              "      <th>Balance</th>\n",
              "      <th>NumOfProducts</th>\n",
              "      <th>HasCrCard</th>\n",
              "      <th>IsActiveMember</th>\n",
              "      <th>EstimatedSalary</th>\n",
              "      <th>Exited</th>\n",
              "      <th>score_quali</th>\n",
              "    </tr>\n",
              "  </thead>\n",
              "  <tbody>\n",
              "    <tr>\n",
              "      <th>0</th>\n",
              "      <td>1</td>\n",
              "      <td>619</td>\n",
              "      <td>France</td>\n",
              "      <td>Female</td>\n",
              "      <td>42</td>\n",
              "      <td>2</td>\n",
              "      <td>0.0</td>\n",
              "      <td>1</td>\n",
              "      <td>1</td>\n",
              "      <td>1</td>\n",
              "      <td>101348.88</td>\n",
              "      <td>1</td>\n",
              "      <td>600-725</td>\n",
              "    </tr>\n",
              "    <tr>\n",
              "      <th>22</th>\n",
              "      <td>23</td>\n",
              "      <td>510</td>\n",
              "      <td>Spain</td>\n",
              "      <td>Female</td>\n",
              "      <td>38</td>\n",
              "      <td>4</td>\n",
              "      <td>0.0</td>\n",
              "      <td>1</td>\n",
              "      <td>1</td>\n",
              "      <td>0</td>\n",
              "      <td>118913.53</td>\n",
              "      <td>1</td>\n",
              "      <td>475-600</td>\n",
              "    </tr>\n",
              "    <tr>\n",
              "      <th>30</th>\n",
              "      <td>31</td>\n",
              "      <td>591</td>\n",
              "      <td>Spain</td>\n",
              "      <td>Female</td>\n",
              "      <td>39</td>\n",
              "      <td>3</td>\n",
              "      <td>0.0</td>\n",
              "      <td>3</td>\n",
              "      <td>1</td>\n",
              "      <td>0</td>\n",
              "      <td>140469.38</td>\n",
              "      <td>1</td>\n",
              "      <td>475-600</td>\n",
              "    </tr>\n",
              "    <tr>\n",
              "      <th>58</th>\n",
              "      <td>59</td>\n",
              "      <td>511</td>\n",
              "      <td>Spain</td>\n",
              "      <td>Female</td>\n",
              "      <td>66</td>\n",
              "      <td>4</td>\n",
              "      <td>0.0</td>\n",
              "      <td>1</td>\n",
              "      <td>1</td>\n",
              "      <td>0</td>\n",
              "      <td>1643.11</td>\n",
              "      <td>1</td>\n",
              "      <td>475-600</td>\n",
              "    </tr>\n",
              "    <tr>\n",
              "      <th>81</th>\n",
              "      <td>82</td>\n",
              "      <td>777</td>\n",
              "      <td>France</td>\n",
              "      <td>Female</td>\n",
              "      <td>32</td>\n",
              "      <td>2</td>\n",
              "      <td>0.0</td>\n",
              "      <td>1</td>\n",
              "      <td>1</td>\n",
              "      <td>0</td>\n",
              "      <td>136458.19</td>\n",
              "      <td>1</td>\n",
              "      <td>725-850</td>\n",
              "    </tr>\n",
              "    <tr>\n",
              "      <th>...</th>\n",
              "      <td>...</td>\n",
              "      <td>...</td>\n",
              "      <td>...</td>\n",
              "      <td>...</td>\n",
              "      <td>...</td>\n",
              "      <td>...</td>\n",
              "      <td>...</td>\n",
              "      <td>...</td>\n",
              "      <td>...</td>\n",
              "      <td>...</td>\n",
              "      <td>...</td>\n",
              "      <td>...</td>\n",
              "      <td>...</td>\n",
              "    </tr>\n",
              "    <tr>\n",
              "      <th>9784</th>\n",
              "      <td>9785</td>\n",
              "      <td>527</td>\n",
              "      <td>France</td>\n",
              "      <td>Male</td>\n",
              "      <td>39</td>\n",
              "      <td>4</td>\n",
              "      <td>0.0</td>\n",
              "      <td>2</td>\n",
              "      <td>1</td>\n",
              "      <td>0</td>\n",
              "      <td>167183.07</td>\n",
              "      <td>1</td>\n",
              "      <td>475-600</td>\n",
              "    </tr>\n",
              "    <tr>\n",
              "      <th>9884</th>\n",
              "      <td>9885</td>\n",
              "      <td>751</td>\n",
              "      <td>France</td>\n",
              "      <td>Female</td>\n",
              "      <td>48</td>\n",
              "      <td>4</td>\n",
              "      <td>0.0</td>\n",
              "      <td>1</td>\n",
              "      <td>0</td>\n",
              "      <td>1</td>\n",
              "      <td>30165.06</td>\n",
              "      <td>1</td>\n",
              "      <td>725-850</td>\n",
              "    </tr>\n",
              "    <tr>\n",
              "      <th>9898</th>\n",
              "      <td>9899</td>\n",
              "      <td>589</td>\n",
              "      <td>France</td>\n",
              "      <td>Male</td>\n",
              "      <td>38</td>\n",
              "      <td>4</td>\n",
              "      <td>0.0</td>\n",
              "      <td>1</td>\n",
              "      <td>1</td>\n",
              "      <td>0</td>\n",
              "      <td>95483.48</td>\n",
              "      <td>1</td>\n",
              "      <td>475-600</td>\n",
              "    </tr>\n",
              "    <tr>\n",
              "      <th>9962</th>\n",
              "      <td>9963</td>\n",
              "      <td>702</td>\n",
              "      <td>Spain</td>\n",
              "      <td>Male</td>\n",
              "      <td>44</td>\n",
              "      <td>9</td>\n",
              "      <td>0.0</td>\n",
              "      <td>1</td>\n",
              "      <td>0</td>\n",
              "      <td>0</td>\n",
              "      <td>59207.41</td>\n",
              "      <td>1</td>\n",
              "      <td>600-725</td>\n",
              "    </tr>\n",
              "    <tr>\n",
              "      <th>9997</th>\n",
              "      <td>9998</td>\n",
              "      <td>709</td>\n",
              "      <td>France</td>\n",
              "      <td>Female</td>\n",
              "      <td>36</td>\n",
              "      <td>7</td>\n",
              "      <td>0.0</td>\n",
              "      <td>1</td>\n",
              "      <td>0</td>\n",
              "      <td>1</td>\n",
              "      <td>42085.58</td>\n",
              "      <td>1</td>\n",
              "      <td>600-725</td>\n",
              "    </tr>\n",
              "  </tbody>\n",
              "</table>\n",
              "<p>500 rows × 13 columns</p>\n",
              "</div>\n",
              "      <button class=\"colab-df-convert\" onclick=\"convertToInteractive('df-d02532b9-cd44-45b5-a1af-7d99bfcced43')\"\n",
              "              title=\"Convert this dataframe to an interactive table.\"\n",
              "              style=\"display:none;\">\n",
              "        \n",
              "  <svg xmlns=\"http://www.w3.org/2000/svg\" height=\"24px\"viewBox=\"0 0 24 24\"\n",
              "       width=\"24px\">\n",
              "    <path d=\"M0 0h24v24H0V0z\" fill=\"none\"/>\n",
              "    <path d=\"M18.56 5.44l.94 2.06.94-2.06 2.06-.94-2.06-.94-.94-2.06-.94 2.06-2.06.94zm-11 1L8.5 8.5l.94-2.06 2.06-.94-2.06-.94L8.5 2.5l-.94 2.06-2.06.94zm10 10l.94 2.06.94-2.06 2.06-.94-2.06-.94-.94-2.06-.94 2.06-2.06.94z\"/><path d=\"M17.41 7.96l-1.37-1.37c-.4-.4-.92-.59-1.43-.59-.52 0-1.04.2-1.43.59L10.3 9.45l-7.72 7.72c-.78.78-.78 2.05 0 2.83L4 21.41c.39.39.9.59 1.41.59.51 0 1.02-.2 1.41-.59l7.78-7.78 2.81-2.81c.8-.78.8-2.07 0-2.86zM5.41 20L4 18.59l7.72-7.72 1.47 1.35L5.41 20z\"/>\n",
              "  </svg>\n",
              "      </button>\n",
              "      \n",
              "  <style>\n",
              "    .colab-df-container {\n",
              "      display:flex;\n",
              "      flex-wrap:wrap;\n",
              "      gap: 12px;\n",
              "    }\n",
              "\n",
              "    .colab-df-convert {\n",
              "      background-color: #E8F0FE;\n",
              "      border: none;\n",
              "      border-radius: 50%;\n",
              "      cursor: pointer;\n",
              "      display: none;\n",
              "      fill: #1967D2;\n",
              "      height: 32px;\n",
              "      padding: 0 0 0 0;\n",
              "      width: 32px;\n",
              "    }\n",
              "\n",
              "    .colab-df-convert:hover {\n",
              "      background-color: #E2EBFA;\n",
              "      box-shadow: 0px 1px 2px rgba(60, 64, 67, 0.3), 0px 1px 3px 1px rgba(60, 64, 67, 0.15);\n",
              "      fill: #174EA6;\n",
              "    }\n",
              "\n",
              "    [theme=dark] .colab-df-convert {\n",
              "      background-color: #3B4455;\n",
              "      fill: #D2E3FC;\n",
              "    }\n",
              "\n",
              "    [theme=dark] .colab-df-convert:hover {\n",
              "      background-color: #434B5C;\n",
              "      box-shadow: 0px 1px 3px 1px rgba(0, 0, 0, 0.15);\n",
              "      filter: drop-shadow(0px 1px 2px rgba(0, 0, 0, 0.3));\n",
              "      fill: #FFFFFF;\n",
              "    }\n",
              "  </style>\n",
              "\n",
              "      <script>\n",
              "        const buttonEl =\n",
              "          document.querySelector('#df-d02532b9-cd44-45b5-a1af-7d99bfcced43 button.colab-df-convert');\n",
              "        buttonEl.style.display =\n",
              "          google.colab.kernel.accessAllowed ? 'block' : 'none';\n",
              "\n",
              "        async function convertToInteractive(key) {\n",
              "          const element = document.querySelector('#df-d02532b9-cd44-45b5-a1af-7d99bfcced43');\n",
              "          const dataTable =\n",
              "            await google.colab.kernel.invokeFunction('convertToInteractive',\n",
              "                                                     [key], {});\n",
              "          if (!dataTable) return;\n",
              "\n",
              "          const docLinkHtml = 'Like what you see? Visit the ' +\n",
              "            '<a target=\"_blank\" href=https://colab.research.google.com/notebooks/data_table.ipynb>data table notebook</a>'\n",
              "            + ' to learn more about interactive tables.';\n",
              "          element.innerHTML = '';\n",
              "          dataTable['output_type'] = 'display_data';\n",
              "          await google.colab.output.renderOutput(dataTable, element);\n",
              "          const docLink = document.createElement('div');\n",
              "          docLink.innerHTML = docLinkHtml;\n",
              "          element.appendChild(docLink);\n",
              "        }\n",
              "      </script>\n",
              "    </div>\n",
              "  </div>\n",
              "  "
            ],
            "text/plain": [
              "      RowNumber  CreditScore Geography  Gender  Age  Tenure  Balance  \\\n",
              "0             1          619    France  Female   42       2      0.0   \n",
              "22           23          510     Spain  Female   38       4      0.0   \n",
              "30           31          591     Spain  Female   39       3      0.0   \n",
              "58           59          511     Spain  Female   66       4      0.0   \n",
              "81           82          777    France  Female   32       2      0.0   \n",
              "...         ...          ...       ...     ...  ...     ...      ...   \n",
              "9784       9785          527    France    Male   39       4      0.0   \n",
              "9884       9885          751    France  Female   48       4      0.0   \n",
              "9898       9899          589    France    Male   38       4      0.0   \n",
              "9962       9963          702     Spain    Male   44       9      0.0   \n",
              "9997       9998          709    France  Female   36       7      0.0   \n",
              "\n",
              "      NumOfProducts  HasCrCard  IsActiveMember  EstimatedSalary  Exited  \\\n",
              "0                 1          1               1        101348.88       1   \n",
              "22                1          1               0        118913.53       1   \n",
              "30                3          1               0        140469.38       1   \n",
              "58                1          1               0          1643.11       1   \n",
              "81                1          1               0        136458.19       1   \n",
              "...             ...        ...             ...              ...     ...   \n",
              "9784              2          1               0        167183.07       1   \n",
              "9884              1          0               1         30165.06       1   \n",
              "9898              1          1               0         95483.48       1   \n",
              "9962              1          0               0         59207.41       1   \n",
              "9997              1          0               1         42085.58       1   \n",
              "\n",
              "     score_quali  \n",
              "0        600-725  \n",
              "22       475-600  \n",
              "30       475-600  \n",
              "58       475-600  \n",
              "81       725-850  \n",
              "...          ...  \n",
              "9784     475-600  \n",
              "9884     725-850  \n",
              "9898     475-600  \n",
              "9962     600-725  \n",
              "9997     600-725  \n",
              "\n",
              "[500 rows x 13 columns]"
            ]
          },
          "execution_count": 57,
          "metadata": {},
          "output_type": "execute_result"
        }
      ],
      "source": [
        "#galera que saiu com saldo 0 !!!! 500\n",
        "df.query('Balance == 0 & Exited == 1')\n"
      ]
    },
    {
      "cell_type": "code",
      "execution_count": null,
      "metadata": {
        "id": "-CbauxNpUVhi"
      },
      "outputs": [],
      "source": [
        "#pessoal que saiu com balance 0 e não sendo membro ativo. !!!! 320 não ativos saíram, 180 saíram\n",
        "df.query('Balance == 0 & Exited == 1 & IsActiveMember == 0')"
      ]
    },
    {
      "cell_type": "code",
      "execution_count": null,
      "metadata": {
        "id": "bi6SEw8FU-pV"
      },
      "outputs": [],
      "source": [
        "#salario menor que 50000 = 489\n",
        "saida_50000 = df.query('EstimatedSalary < 50000 & Exited == 1 ')\n",
        "saida_50000"
      ]
    },
    {
      "cell_type": "code",
      "execution_count": null,
      "metadata": {
        "colab": {
          "base_uri": "https://localhost:8080/",
          "height": 424
        },
        "id": "LHbLTAJAZh4Q",
        "outputId": "7ac4bd61-da11-40c8-cf78-da652ac9d64a"
      },
      "outputs": [
        {
          "data": {
            "text/html": [
              "\n",
              "  <div id=\"df-dc0fd6bc-ae9a-47eb-8f8e-05530f1db751\">\n",
              "    <div class=\"colab-df-container\">\n",
              "      <div>\n",
              "<style scoped>\n",
              "    .dataframe tbody tr th:only-of-type {\n",
              "        vertical-align: middle;\n",
              "    }\n",
              "\n",
              "    .dataframe tbody tr th {\n",
              "        vertical-align: top;\n",
              "    }\n",
              "\n",
              "    .dataframe thead th {\n",
              "        text-align: right;\n",
              "    }\n",
              "</style>\n",
              "<table border=\"1\" class=\"dataframe\">\n",
              "  <thead>\n",
              "    <tr style=\"text-align: right;\">\n",
              "      <th></th>\n",
              "      <th>RowNumber</th>\n",
              "      <th>CreditScore</th>\n",
              "      <th>Geography</th>\n",
              "      <th>Gender</th>\n",
              "      <th>Age</th>\n",
              "      <th>Tenure</th>\n",
              "      <th>Balance</th>\n",
              "      <th>NumOfProducts</th>\n",
              "      <th>HasCrCard</th>\n",
              "      <th>IsActiveMember</th>\n",
              "      <th>EstimatedSalary</th>\n",
              "      <th>Exited</th>\n",
              "      <th>score_quali</th>\n",
              "    </tr>\n",
              "  </thead>\n",
              "  <tbody>\n",
              "    <tr>\n",
              "      <th>88</th>\n",
              "      <td>89</td>\n",
              "      <td>646</td>\n",
              "      <td>France</td>\n",
              "      <td>Female</td>\n",
              "      <td>46</td>\n",
              "      <td>4</td>\n",
              "      <td>0.00</td>\n",
              "      <td>3</td>\n",
              "      <td>1</td>\n",
              "      <td>0</td>\n",
              "      <td>93251.42</td>\n",
              "      <td>1</td>\n",
              "      <td>600-725</td>\n",
              "    </tr>\n",
              "    <tr>\n",
              "      <th>109</th>\n",
              "      <td>110</td>\n",
              "      <td>479</td>\n",
              "      <td>Germany</td>\n",
              "      <td>Male</td>\n",
              "      <td>35</td>\n",
              "      <td>9</td>\n",
              "      <td>92833.89</td>\n",
              "      <td>1</td>\n",
              "      <td>1</td>\n",
              "      <td>0</td>\n",
              "      <td>99449.86</td>\n",
              "      <td>1</td>\n",
              "      <td>475-600</td>\n",
              "    </tr>\n",
              "    <tr>\n",
              "      <th>138</th>\n",
              "      <td>139</td>\n",
              "      <td>584</td>\n",
              "      <td>Spain</td>\n",
              "      <td>Female</td>\n",
              "      <td>48</td>\n",
              "      <td>2</td>\n",
              "      <td>213146.20</td>\n",
              "      <td>1</td>\n",
              "      <td>1</td>\n",
              "      <td>0</td>\n",
              "      <td>75161.25</td>\n",
              "      <td>1</td>\n",
              "      <td>475-600</td>\n",
              "    </tr>\n",
              "    <tr>\n",
              "      <th>164</th>\n",
              "      <td>165</td>\n",
              "      <td>683</td>\n",
              "      <td>Spain</td>\n",
              "      <td>Male</td>\n",
              "      <td>29</td>\n",
              "      <td>0</td>\n",
              "      <td>133702.89</td>\n",
              "      <td>1</td>\n",
              "      <td>1</td>\n",
              "      <td>0</td>\n",
              "      <td>55582.54</td>\n",
              "      <td>1</td>\n",
              "      <td>600-725</td>\n",
              "    </tr>\n",
              "    <tr>\n",
              "      <th>190</th>\n",
              "      <td>191</td>\n",
              "      <td>715</td>\n",
              "      <td>France</td>\n",
              "      <td>Female</td>\n",
              "      <td>41</td>\n",
              "      <td>8</td>\n",
              "      <td>56214.85</td>\n",
              "      <td>2</td>\n",
              "      <td>0</td>\n",
              "      <td>0</td>\n",
              "      <td>92982.61</td>\n",
              "      <td>1</td>\n",
              "      <td>600-725</td>\n",
              "    </tr>\n",
              "    <tr>\n",
              "      <th>...</th>\n",
              "      <td>...</td>\n",
              "      <td>...</td>\n",
              "      <td>...</td>\n",
              "      <td>...</td>\n",
              "      <td>...</td>\n",
              "      <td>...</td>\n",
              "      <td>...</td>\n",
              "      <td>...</td>\n",
              "      <td>...</td>\n",
              "      <td>...</td>\n",
              "      <td>...</td>\n",
              "      <td>...</td>\n",
              "      <td>...</td>\n",
              "    </tr>\n",
              "    <tr>\n",
              "      <th>9947</th>\n",
              "      <td>9948</td>\n",
              "      <td>615</td>\n",
              "      <td>France</td>\n",
              "      <td>Male</td>\n",
              "      <td>34</td>\n",
              "      <td>1</td>\n",
              "      <td>83503.11</td>\n",
              "      <td>2</td>\n",
              "      <td>1</td>\n",
              "      <td>1</td>\n",
              "      <td>73124.53</td>\n",
              "      <td>1</td>\n",
              "      <td>600-725</td>\n",
              "    </tr>\n",
              "    <tr>\n",
              "      <th>9962</th>\n",
              "      <td>9963</td>\n",
              "      <td>702</td>\n",
              "      <td>Spain</td>\n",
              "      <td>Male</td>\n",
              "      <td>44</td>\n",
              "      <td>9</td>\n",
              "      <td>0.00</td>\n",
              "      <td>1</td>\n",
              "      <td>0</td>\n",
              "      <td>0</td>\n",
              "      <td>59207.41</td>\n",
              "      <td>1</td>\n",
              "      <td>600-725</td>\n",
              "    </tr>\n",
              "    <tr>\n",
              "      <th>9981</th>\n",
              "      <td>9982</td>\n",
              "      <td>498</td>\n",
              "      <td>Germany</td>\n",
              "      <td>Male</td>\n",
              "      <td>42</td>\n",
              "      <td>3</td>\n",
              "      <td>152039.70</td>\n",
              "      <td>1</td>\n",
              "      <td>1</td>\n",
              "      <td>1</td>\n",
              "      <td>53445.17</td>\n",
              "      <td>1</td>\n",
              "      <td>475-600</td>\n",
              "    </tr>\n",
              "    <tr>\n",
              "      <th>9991</th>\n",
              "      <td>9992</td>\n",
              "      <td>597</td>\n",
              "      <td>France</td>\n",
              "      <td>Female</td>\n",
              "      <td>53</td>\n",
              "      <td>4</td>\n",
              "      <td>88381.21</td>\n",
              "      <td>1</td>\n",
              "      <td>1</td>\n",
              "      <td>0</td>\n",
              "      <td>69384.71</td>\n",
              "      <td>1</td>\n",
              "      <td>475-600</td>\n",
              "    </tr>\n",
              "    <tr>\n",
              "      <th>9998</th>\n",
              "      <td>9999</td>\n",
              "      <td>772</td>\n",
              "      <td>Germany</td>\n",
              "      <td>Male</td>\n",
              "      <td>42</td>\n",
              "      <td>3</td>\n",
              "      <td>75075.31</td>\n",
              "      <td>2</td>\n",
              "      <td>1</td>\n",
              "      <td>0</td>\n",
              "      <td>92888.52</td>\n",
              "      <td>1</td>\n",
              "      <td>725-850</td>\n",
              "    </tr>\n",
              "  </tbody>\n",
              "</table>\n",
              "<p>504 rows × 13 columns</p>\n",
              "</div>\n",
              "      <button class=\"colab-df-convert\" onclick=\"convertToInteractive('df-dc0fd6bc-ae9a-47eb-8f8e-05530f1db751')\"\n",
              "              title=\"Convert this dataframe to an interactive table.\"\n",
              "              style=\"display:none;\">\n",
              "        \n",
              "  <svg xmlns=\"http://www.w3.org/2000/svg\" height=\"24px\"viewBox=\"0 0 24 24\"\n",
              "       width=\"24px\">\n",
              "    <path d=\"M0 0h24v24H0V0z\" fill=\"none\"/>\n",
              "    <path d=\"M18.56 5.44l.94 2.06.94-2.06 2.06-.94-2.06-.94-.94-2.06-.94 2.06-2.06.94zm-11 1L8.5 8.5l.94-2.06 2.06-.94-2.06-.94L8.5 2.5l-.94 2.06-2.06.94zm10 10l.94 2.06.94-2.06 2.06-.94-2.06-.94-.94-2.06-.94 2.06-2.06.94z\"/><path d=\"M17.41 7.96l-1.37-1.37c-.4-.4-.92-.59-1.43-.59-.52 0-1.04.2-1.43.59L10.3 9.45l-7.72 7.72c-.78.78-.78 2.05 0 2.83L4 21.41c.39.39.9.59 1.41.59.51 0 1.02-.2 1.41-.59l7.78-7.78 2.81-2.81c.8-.78.8-2.07 0-2.86zM5.41 20L4 18.59l7.72-7.72 1.47 1.35L5.41 20z\"/>\n",
              "  </svg>\n",
              "      </button>\n",
              "      \n",
              "  <style>\n",
              "    .colab-df-container {\n",
              "      display:flex;\n",
              "      flex-wrap:wrap;\n",
              "      gap: 12px;\n",
              "    }\n",
              "\n",
              "    .colab-df-convert {\n",
              "      background-color: #E8F0FE;\n",
              "      border: none;\n",
              "      border-radius: 50%;\n",
              "      cursor: pointer;\n",
              "      display: none;\n",
              "      fill: #1967D2;\n",
              "      height: 32px;\n",
              "      padding: 0 0 0 0;\n",
              "      width: 32px;\n",
              "    }\n",
              "\n",
              "    .colab-df-convert:hover {\n",
              "      background-color: #E2EBFA;\n",
              "      box-shadow: 0px 1px 2px rgba(60, 64, 67, 0.3), 0px 1px 3px 1px rgba(60, 64, 67, 0.15);\n",
              "      fill: #174EA6;\n",
              "    }\n",
              "\n",
              "    [theme=dark] .colab-df-convert {\n",
              "      background-color: #3B4455;\n",
              "      fill: #D2E3FC;\n",
              "    }\n",
              "\n",
              "    [theme=dark] .colab-df-convert:hover {\n",
              "      background-color: #434B5C;\n",
              "      box-shadow: 0px 1px 3px 1px rgba(0, 0, 0, 0.15);\n",
              "      filter: drop-shadow(0px 1px 2px rgba(0, 0, 0, 0.3));\n",
              "      fill: #FFFFFF;\n",
              "    }\n",
              "  </style>\n",
              "\n",
              "      <script>\n",
              "        const buttonEl =\n",
              "          document.querySelector('#df-dc0fd6bc-ae9a-47eb-8f8e-05530f1db751 button.colab-df-convert');\n",
              "        buttonEl.style.display =\n",
              "          google.colab.kernel.accessAllowed ? 'block' : 'none';\n",
              "\n",
              "        async function convertToInteractive(key) {\n",
              "          const element = document.querySelector('#df-dc0fd6bc-ae9a-47eb-8f8e-05530f1db751');\n",
              "          const dataTable =\n",
              "            await google.colab.kernel.invokeFunction('convertToInteractive',\n",
              "                                                     [key], {});\n",
              "          if (!dataTable) return;\n",
              "\n",
              "          const docLinkHtml = 'Like what you see? Visit the ' +\n",
              "            '<a target=\"_blank\" href=https://colab.research.google.com/notebooks/data_table.ipynb>data table notebook</a>'\n",
              "            + ' to learn more about interactive tables.';\n",
              "          element.innerHTML = '';\n",
              "          dataTable['output_type'] = 'display_data';\n",
              "          await google.colab.output.renderOutput(dataTable, element);\n",
              "          const docLink = document.createElement('div');\n",
              "          docLink.innerHTML = docLinkHtml;\n",
              "          element.appendChild(docLink);\n",
              "        }\n",
              "      </script>\n",
              "    </div>\n",
              "  </div>\n",
              "  "
            ],
            "text/plain": [
              "      RowNumber  CreditScore Geography  Gender  Age  Tenure    Balance  \\\n",
              "88           89          646    France  Female   46       4       0.00   \n",
              "109         110          479   Germany    Male   35       9   92833.89   \n",
              "138         139          584     Spain  Female   48       2  213146.20   \n",
              "164         165          683     Spain    Male   29       0  133702.89   \n",
              "190         191          715    France  Female   41       8   56214.85   \n",
              "...         ...          ...       ...     ...  ...     ...        ...   \n",
              "9947       9948          615    France    Male   34       1   83503.11   \n",
              "9962       9963          702     Spain    Male   44       9       0.00   \n",
              "9981       9982          498   Germany    Male   42       3  152039.70   \n",
              "9991       9992          597    France  Female   53       4   88381.21   \n",
              "9998       9999          772   Germany    Male   42       3   75075.31   \n",
              "\n",
              "      NumOfProducts  HasCrCard  IsActiveMember  EstimatedSalary  Exited  \\\n",
              "88                3          1               0         93251.42       1   \n",
              "109               1          1               0         99449.86       1   \n",
              "138               1          1               0         75161.25       1   \n",
              "164               1          1               0         55582.54       1   \n",
              "190               2          0               0         92982.61       1   \n",
              "...             ...        ...             ...              ...     ...   \n",
              "9947              2          1               1         73124.53       1   \n",
              "9962              1          0               0         59207.41       1   \n",
              "9981              1          1               1         53445.17       1   \n",
              "9991              1          1               0         69384.71       1   \n",
              "9998              2          1               0         92888.52       1   \n",
              "\n",
              "     score_quali  \n",
              "88       600-725  \n",
              "109      475-600  \n",
              "138      475-600  \n",
              "164      600-725  \n",
              "190      600-725  \n",
              "...          ...  \n",
              "9947     600-725  \n",
              "9962     600-725  \n",
              "9981     475-600  \n",
              "9991     475-600  \n",
              "9998     725-850  \n",
              "\n",
              "[504 rows x 13 columns]"
            ]
          },
          "execution_count": 60,
          "metadata": {},
          "output_type": "execute_result"
        }
      ],
      "source": [
        "#salario entre 50000 e 1000 mil = 504\n",
        "saida_cemmil = df.query('50000 < EstimatedSalary < 100000 & Exited == 1')\n",
        "saida_cemmil"
      ]
    },
    {
      "cell_type": "code",
      "execution_count": null,
      "metadata": {
        "id": "ZP24S0sGaIRg"
      },
      "outputs": [],
      "source": [
        "#saida menor que 150 e maior que 100 = 517\n",
        "saida_150 = df.query('100000 < EstimatedSalary < 150000 & Exited == 1')\n",
        "saida_150"
      ]
    },
    {
      "cell_type": "code",
      "execution_count": null,
      "metadata": {
        "id": "RfrE2mStayWH"
      },
      "outputs": [],
      "source": [
        "#saida menor que 200 e maior 150 = 527\n",
        "saida_200 = df.query('200000 > EstimatedSalary > 150000 & Exited == 1')\n",
        "saida_200"
      ]
    },
    {
      "cell_type": "code",
      "execution_count": null,
      "metadata": {
        "id": "wRAjsLVfdZCm"
      },
      "outputs": [],
      "source": [
        "#CRIANDO FAIXA DE\n",
        "\n",
        "def faixa_salario(salario):\n",
        "  if salario <= 50000:\n",
        "    return 'Abaixo de 50k'\n",
        "  if 100000 >= salario >= 50000:\n",
        "    return '50k-100k'\n",
        "  if 150000 >= salario >= 100000:\n",
        "    return '100k-150k'\n",
        "  if 200000 >= salario >= 150000:\n",
        "    return '150k-200k'\n"
      ]
    },
    {
      "cell_type": "code",
      "execution_count": null,
      "metadata": {
        "id": "QwzJvrJw1BuU"
      },
      "outputs": [],
      "source": [
        "saida_pessoal"
      ]
    },
    {
      "cell_type": "code",
      "execution_count": null,
      "metadata": {
        "id": "-EaDDzctedgq"
      },
      "outputs": [],
      "source": [
        "#to_list é uma função que transforma coluna em lista para eu poder iterar\n",
        "df['faixa_salario'] = [faixa_salario(salario) for salario in df.EstimatedSalary.to_list()]\n",
        "saida_pessoal['faixa_salario'].value_counts()\n"
      ]
    },
    {
      "cell_type": "code",
      "execution_count": null,
      "metadata": {
        "id": "tkyfCAh43q4_"
      },
      "outputs": [],
      "source": [
        "#150 - 200k: 231 pessoas com score entre 625 e 750 saíram.\n",
        "score_0 = df.query('score_quali == \"600-725\" & EstimatedSalary > 100000\" & Exited == 0 & NumOfProducts == 1')\n",
        "score_0"
      ]
    },
    {
      "cell_type": "code",
      "execution_count": null,
      "metadata": {
        "id": "P3eXjXEQdEAq"
      },
      "outputs": [],
      "source": [
        "#100k - 150k: 238 pessoas com score entre 625 e 750 saíram.\n",
        "score_3 = df.query('score_quali == \"alto\" & faixa_salario == \"Entre 100k e 150k\" & Exited == 1')\n",
        "score_3"
      ]
    },
    {
      "cell_type": "code",
      "execution_count": null,
      "metadata": {
        "id": "wxjTzvYpnxzQ"
      },
      "outputs": [],
      "source": [
        "#Galera que saiu com score entre 600-725 com salário maior que 100000\n",
        "score_4 = df.query('score_quali == \"600-725\" & EstimatedSalary > 100000 & Exited == 1')\n",
        "score_4"
      ]
    },
    {
      "cell_type": "code",
      "execution_count": null,
      "metadata": {
        "id": "eTFBXwuXbd-U"
      },
      "outputs": [],
      "source": [
        "hist_sal = sns.histplot(df['EstimatedSalary'], kde= False, bins = 25 )\n",
        "hist_sal.figure.set_size_inches(10, 5)\n",
        "hist_sal.set_title('Distribuição de Frequências por salário', fontsize=20)\n",
        "hist_sal.set_xlabel('Salário', fontsize=16)\n",
        "hist_sal\n",
        "plt.show()"
      ]
    },
    {
      "cell_type": "markdown",
      "metadata": {
        "id": "61ZPo3csdAZH"
      },
      "source": []
    },
    {
      "cell_type": "code",
      "execution_count": null,
      "metadata": {
        "id": "-dYlRNED7ejY"
      },
      "outputs": [],
      "source": [
        "#150 - 200k: 123 pessoas com score maior do que 750 saíram.\n",
        "score_1 = df.query('score_quali == \"excelente\" & faixa_salario == \"Entre 150k e 200k\" & Exited == 1')\n",
        "score_1"
      ]
    },
    {
      "cell_type": "code",
      "execution_count": null,
      "metadata": {
        "id": "p3sw9_cz8j74"
      },
      "outputs": [],
      "source": [
        "#100k - 150k: 95 pessoas com com score maior do que 750 saíram\n",
        "score_2 = df.query('score_quali == \"excelente\" & faixa_salario == \"Entre 100k e 150k\" & Exited == 1')\n",
        "score_2"
      ]
    },
    {
      "cell_type": "code",
      "execution_count": null,
      "metadata": {
        "id": "hsA_uOKsdC6t"
      },
      "outputs": [],
      "source": [
        "#contagem de balance 0 do pessoal que saiu\n",
        "saida_pessoal = df.loc[df.Exited == 1]\n",
        "saida_pais = saida_pessoal[[\"Geography\"]]\n",
        "saida_pais.loc[df.Balance == 0].value_counts()"
      ]
    },
    {
      "cell_type": "code",
      "execution_count": null,
      "metadata": {
        "id": "1Bwbmjk1HtTC"
      },
      "outputs": [],
      "source": [
        "sns.countplot('Geography', data = saida_pessoal)\n",
        "plt.show()"
      ]
    },
    {
      "cell_type": "code",
      "execution_count": null,
      "metadata": {
        "id": "bqJZOO-zYM5r"
      },
      "outputs": [],
      "source": [
        "#Notei um alto numero de balance = 0 na frança é 337 e espanha é 163.\n",
        "sns.displot(data = saida_pessoal, x=\"Balance\", hue=\"Geography\", col=\"Geography\")"
      ]
    },
    {
      "cell_type": "code",
      "execution_count": null,
      "metadata": {
        "id": "O9T7-IJAiP9-"
      },
      "outputs": [],
      "source": [
        "#Saida por score por país\n",
        "sns.displot(data=saida_pessoal, x=\"score_quali\", hue=\"Geography\", col=\"Geography\")"
      ]
    },
    {
      "cell_type": "code",
      "execution_count": null,
      "metadata": {
        "id": "SjWWhdqDd2sq"
      },
      "outputs": [],
      "source": [
        "#Membros Inativos por país que saíram\n",
        "sns.displot(saida_pessoal.loc[df.IsActiveMember == 0], x=\"Geography\")"
      ]
    },
    {
      "cell_type": "code",
      "execution_count": null,
      "metadata": {
        "id": "ZANeBh3q9gyS"
      },
      "outputs": [],
      "source": [
        "#Membro Ativos por país que saíram\n",
        "sns.displot(saida_pessoal.loc[df.IsActiveMember == 1], x=\"Geography\")"
      ]
    },
    {
      "cell_type": "code",
      "execution_count": null,
      "metadata": {
        "id": "lZa38bTY_r1D"
      },
      "outputs": [],
      "source": [
        "#Homem que tem salário entre 150 e 200, e score maior que 725 = 54\n",
        "gender_0_m = df.query('score_quali == \"725-850\" & faixa_salario == \"150k-200k\" & Exited == 1  & Gender == \"Male\"' )\n",
        "gender_0_m.info()"
      ]
    },
    {
      "cell_type": "code",
      "execution_count": null,
      "metadata": {
        "id": "9AJSI4hI_sjN"
      },
      "outputs": [],
      "source": [
        "#Mulher que tem salário entre 150 e 200, e score maior que 725 = 69\n",
        "gender_0_f = df.query('score_quali == \"725-850\" & faixa_salario == \"150k-200k\" & Exited == 1  & Gender == \"Female\"' )\n",
        "gender_0_f"
      ]
    },
    {
      "cell_type": "markdown",
      "metadata": {
        "id": "CNCY0sfmIyGa"
      },
      "source": [
        "Análise do gênero, não há nenhuma relevância para este tipo de serviço."
      ]
    },
    {
      "cell_type": "code",
      "execution_count": null,
      "metadata": {
        "id": "bb4Jw7ib_s_n"
      },
      "outputs": [],
      "source": [
        "#Homem que tem salário entre 100 e 150, e score maior que 725 = 45\n",
        "gender_1_m = df.query('score_quali == \"725-850\" & faixa_salario == \"100k-150k\" & Exited == 1  & Gender == \"Male\"' )\n",
        "gender_1_m.info()"
      ]
    },
    {
      "cell_type": "code",
      "execution_count": null,
      "metadata": {
        "id": "fLrk2anD_2Qh"
      },
      "outputs": [],
      "source": [
        "#Mulher que tem salário entre 100 e 150, e score maior que 725 = 50\n",
        "gender_1_f = df.query('score_quali == \"725-850\" & faixa_salario == \"100k-150k\" & Exited == 1  & Gender == \"Female\"')\n",
        "gender_1_f.info()"
      ]
    },
    {
      "cell_type": "code",
      "execution_count": null,
      "metadata": {
        "id": "3ynihTIAJG-1"
      },
      "outputs": [],
      "source": [
        "# 45 pessoas que tem score entre 725 e 850 e recebem entre 150 e 200 #814 saíram da alemanha\n",
        "germany = df.query('score_quali == \"725-850\" & faixa_salario == \"150k-200k\" & Exited == 1  & Geography == \"Germany\"')\n",
        "germany.info()"
      ]
    },
    {
      "cell_type": "code",
      "execution_count": null,
      "metadata": {
        "id": "OhjmXOLyJqzY"
      },
      "outputs": [],
      "source": [
        "#saíram 32 pessoas na espanha que tem score entre 725 e 850 e recebem entre 150 e 200\n",
        "spain= df.query('score_quali == \"725-850\" & faixa_salario == \"150k-200k\" & Exited == 1  & Geography == \"Spain\"')\n",
        "spain.info()"
      ]
    },
    {
      "cell_type": "code",
      "execution_count": null,
      "metadata": {
        "id": "uRHgXUXqKB-s"
      },
      "outputs": [],
      "source": [
        "# saíram 46 pessoas na frança que tem score entre 725-850, recebem entre 150 e 200\n",
        "france = df.query('score_quali == \"725-850\" & faixa_salario == \"150k-200k\" & Exited == 1  & Geography == \"France\"')\n",
        "france.info()"
      ]
    },
    {
      "cell_type": "code",
      "execution_count": null,
      "metadata": {
        "id": "yOnzcidmFKhQ"
      },
      "outputs": [],
      "source": [
        "#histograma de pessoas salario\n",
        "hist_sal = sns.histplot(df['faixa_salario'], kde= False, bins = 25 )\n",
        "hist_sal.figure.set_size_inches(15, 5)\n",
        "hist_sal.set_title('Distribuição de Frequências por salário', fontsize=20)\n",
        "hist_sal.set_xlabel('Salário', fontsize=16)\n",
        "hist_sal\n",
        "plt.show()"
      ]
    },
    {
      "cell_type": "code",
      "execution_count": null,
      "metadata": {
        "id": "4H93DuYmVAOd"
      },
      "outputs": [],
      "source": [
        "def idade_cliente (idade):\n",
        "  if idade <= 30:\n",
        "    return '0-30'\n",
        "  if idade <= 45:\n",
        "    return '30-45'\n",
        "  if idade <= 60:\n",
        "    return '45-60'\n",
        "  if idade <= 92:\n",
        "    return '60-92'\n"
      ]
    },
    {
      "cell_type": "code",
      "execution_count": null,
      "metadata": {
        "id": "cjC-YBqKV5Oi"
      },
      "outputs": [],
      "source": [
        "#histograma de frequência por idade\n",
        "hist_age = sns.histplot(saida_pessoal['Age'], kde= False, bins = 25 )\n",
        "hist_age.figure.set_size_inches(15, 5)\n",
        "hist_age.set_title('Distribuição de Frequências por idade', fontsize=20)\n",
        "hist_age.set_xlabel('Idade', fontsize=16)\n",
        "hist_age\n",
        "plt.show()"
      ]
    },
    {
      "cell_type": "code",
      "execution_count": null,
      "metadata": {
        "id": "a20ZXjZNXjgq"
      },
      "outputs": [],
      "source": [
        "#bolo de idade e análise da atividade desse pessoal é 30-45\n",
        "#0-29\n",
        "#30-45\n",
        "#46-60\n",
        "#61-92\n",
        "saida3646 = saida_pessoal.query('30 <= Age < 46 ')\n",
        "saida3646.query('HasCrCard == 1 & IsActiveMember == 1')"
      ]
    },
    {
      "cell_type": "code",
      "execution_count": null,
      "metadata": {
        "id": "aw7SKStXzAa4"
      },
      "outputs": [],
      "source": [
        "#media de salário das mulheres\n",
        "mulheres = saida_pessoal.query('Gender==\"Female\"')\n",
        "mulheres[[\"EstimatedSalary\"]].mean()"
      ]
    },
    {
      "cell_type": "code",
      "execution_count": null,
      "metadata": {
        "id": "VDxxxVeuzF0m"
      },
      "outputs": [],
      "source": [
        "#média de salário dos homens\n",
        "homens = saida_pessoal.query('Gender==\"Male\"')\n",
        "homens[[\"EstimatedSalary\"]].mean()"
      ]
    },
    {
      "cell_type": "code",
      "execution_count": null,
      "metadata": {
        "id": "tQF4a2gHp3az"
      },
      "outputs": [],
      "source": [
        "#Todas as pessoas que possuem 4 produtos saíram\n",
        "df.query('Exited == 1 & NumOfProducts == 4').info()"
      ]
    },
    {
      "cell_type": "code",
      "execution_count": null,
      "metadata": {
        "id": "teuVcc_foFU2"
      },
      "outputs": [],
      "source": [
        "#gráfico de pizza de pessoas que saíram\n",
        "values = saida_pessoal.Geography.value_counts()\n",
        "labels = ['Germany','France','Spain']\n",
        "\n",
        "fig, ax = plt.subplots(figsize = (4, 3), dpi = 100)\n",
        "explode = (0, 0.09)\n",
        "\n",
        "patches, texts, autotexts = ax.pie(values, labels = labels, autopct = '%1.2f%%', shadow = True,\n",
        "                                   startangle = 90)\n",
        "\n",
        "plt.setp(texts, color = 'black')\n",
        "plt.setp(autotexts, size = 8, color = 'black')\n",
        "autotexts[1].set_color('black')\n",
        "plt.show()"
      ]
    },
    {
      "cell_type": "code",
      "execution_count": null,
      "metadata": {
        "id": "REzwkkkzqWwd"
      },
      "outputs": [],
      "source": [
        "#analise grafica de tem cartao, balance = 0,saiu, e não é membro ativo\n",
        "analise = df.query('Balance == 0 & Exited == 1 & IsActiveMember == 0')\n",
        "sns.countplot('HasCrCard', hue = 'HasCrCard', data = analise)\n",
        "plt.show()\n",
        "analise.info()"
      ]
    },
    {
      "cell_type": "code",
      "execution_count": null,
      "metadata": {
        "id": "oITBbQRH-mqN"
      },
      "outputs": [],
      "source": [
        "#saida espanha\n",
        "saida_espanha = df.query('Exited == 1 & Geography == \"Spain\"')"
      ]
    },
    {
      "cell_type": "code",
      "execution_count": null,
      "metadata": {
        "id": "EmJQ7FdP-gcD"
      },
      "outputs": [],
      "source": [
        "#boxplot espanha\n",
        "sns.boxplot(x=saida_espanha[\"Age\"])\n",
        "plt.show()\n"
      ]
    },
    {
      "cell_type": "code",
      "execution_count": null,
      "metadata": {
        "id": "At13s4QNfEhu"
      },
      "outputs": [],
      "source": [
        "#graficos espanha - idade,score_quali,salario,balance\n",
        "graficofaixadesejada = sns.countplot('Age', hue = 'Exited', data = saida_espanha)\n",
        "graficofaixadesejada.figure.set_size_inches(20, 5)\n",
        "graficofaixadesejada.set_xlabel('')\n",
        "graficofaixadesejada.set_ylabel('')\n",
        "graficofaixadesejada.set(title='Frequencia de idade na Espanha')\n",
        "\n",
        "plt.show()\n",
        "\n",
        "plt.show()"
      ]
    },
    {
      "cell_type": "code",
      "execution_count": null,
      "metadata": {
        "id": "bRKcMOCwjUYI"
      },
      "outputs": [],
      "source": [
        "#saida alemanha\n",
        "saida_alemanha = df.query('Geography == \"Germany\" & Exited == 1')\n",
        "saida_alemanha"
      ]
    },
    {
      "cell_type": "code",
      "execution_count": null,
      "metadata": {
        "id": "GsnvOd5ujX4U"
      },
      "outputs": [],
      "source": [
        "#saida alemanha \n",
        "graficofaixadesejada = sns.countplot('NumOfProducts', hue = 'Exited', data = saida_alemanha)\n",
        "graficofaixadesejada.figure.set_size_inches(20, 5)\n",
        "graficofaixadesejada.set_xlabel('')\n",
        "graficofaixadesejada.set_ylabel('')\n",
        "graficofaixadesejada.set(title='Quantidade de produtos na Espanha')\n",
        "\n",
        "plt.show()"
      ]
    },
    {
      "cell_type": "code",
      "execution_count": null,
      "metadata": {
        "id": "r2JcMKlk6y9u"
      },
      "outputs": [],
      "source": [
        "#saidas pais boxplot\n",
        "saidas_pais = sns.boxplot(x = saida_pessoal[\"Age\"], y = saida_pessoal[\"Geography\"])\n",
        "saidas_pais.set(title=\"Concentração de saída por idade nos países\")\n",
        "plt.ylabel(\"\")\n",
        "plt.xlabel(\"Idade\")\n",
        "plt.xlim(18,60)\n",
        "\n",
        "plt.show()"
      ]
    },
    {
      "cell_type": "code",
      "execution_count": null,
      "metadata": {
        "id": "NcWOrx297wJ5"
      },
      "outputs": [],
      "source": [
        "df.query('Geography == \"France\"  & Exited == 1 & faixa_salario').info()"
      ]
    },
    {
      "cell_type": "code",
      "execution_count": null,
      "metadata": {
        "id": "Fss8WKLj7woW"
      },
      "outputs": [],
      "source": [
        "df.query('Geography == \"Spain\" & 35 < Age < 52 & Exited == 1').info()"
      ]
    },
    {
      "cell_type": "code",
      "execution_count": null,
      "metadata": {
        "id": "O8V21tGe9My1"
      },
      "outputs": [],
      "source": [
        "df.query('Geography == \"Germany\" & 38 < Age < 52 & Exited == 1').info()"
      ]
    },
    {
      "cell_type": "code",
      "execution_count": null,
      "metadata": {
        "id": "jXQUj3AsDLNq"
      },
      "outputs": [],
      "source": [
        "#observar outras variaveis pela idade.\n",
        "idade_franca = df.query('Geography == \"France\" & 37 < Age < 53 & Exited == 1')\n",
        "idade_espanha = df.query('Geography == \"Spain\" & 35 < Age < 52 & Exited == 1')\n",
        "idade_alemanha = df.query('Geography == \"Germany\" & 38 < Age < 52 & Exited == 1')"
      ]
    },
    {
      "cell_type": "code",
      "execution_count": null,
      "metadata": {
        "id": "UeOk9l1tUsBt"
      },
      "outputs": [],
      "source": [
        "idade_franca['faixa_salario'].value_counts()"
      ]
    },
    {
      "cell_type": "code",
      "execution_count": null,
      "metadata": {
        "id": "Zvgu3IMPVlSn"
      },
      "outputs": [],
      "source": [
        "idade_espanha['faixa_salario'].value_counts()"
      ]
    },
    {
      "cell_type": "code",
      "execution_count": null,
      "metadata": {
        "id": "u_9bJKCCWzDR"
      },
      "outputs": [],
      "source": [
        "idade_alemanha['faixa_salario'].value_counts()"
      ]
    },
    {
      "cell_type": "code",
      "execution_count": null,
      "metadata": {
        "id": "GnP_r3Yjt8WJ"
      },
      "outputs": [],
      "source": [
        "#grafico ativo e inativo, balance = 0\n",
        "analise = df.query('Balance == 0 & Exited == 1 & IsActiveMember == 1')\n",
        "graf_als = sns.countplot(x='HasCrCard', data = analise, hue = 'HasCrCard')\n",
        "graf_als.figure.set_size_inches(8,5)\n",
        "graf_als.set(title=\"Ativos\")\n",
        "\n",
        "plt.show()"
      ]
    },
    {
      "cell_type": "code",
      "execution_count": null,
      "metadata": {
        "id": "q6q1uPn1IRWY"
      },
      "outputs": [],
      "source": [
        "#graficos com faixa definida e salários.\n",
        "graf_es = sns.countplot(data=idade_espanha, x=\"faixa_salario\")\n",
        "graf_es.set_xlabel('')\n",
        "graf_es.set_ylabel('')\n",
        "graf_es.set(title = \"Saída por salário na espanha\")\n",
        "\n",
        "graf_al = sns.countplot(data=idade_alemanha, x=\"faixa_salario\")\n",
        "graf_al.set_xlabel('')\n",
        "graf_al.set_ylabel('')\n",
        "graf_al.set(title = \"Saída por salário na Alemanha\")\n",
        "\n",
        "graf_fr = sns.countplot(data=idade_franca, x=\"faixa_salario\")\n",
        "graf_fr.set_xlabel('')\n",
        "graf_fr.set_ylabel('')\n",
        "graf_fr.set(title = \"Saída por salário na França\")\n",
        "plt.show()\n",
        "\n",
        "\n"
      ]
    },
    {
      "cell_type": "code",
      "execution_count": null,
      "metadata": {
        "id": "Y1k6Kd50kP9l"
      },
      "outputs": [],
      "source": [
        "sns.countplot(x = 'faixa_salario', data = idade_franca)"
      ]
    },
    {
      "cell_type": "code",
      "execution_count": null,
      "metadata": {
        "id": "yOMjAtdwbn8g"
      },
      "outputs": [],
      "source": [
        "saiu_0 = df.query('Exited == 1')\n",
        "\n",
        "grafico = sns.countplot(x = 'Geography', hue = 'IsActiveMember', data = saiu_0)\n",
        "grafico.set(title = \"Saída por atividade\")"
      ]
    },
    {
      "cell_type": "code",
      "execution_count": null,
      "metadata": {
        "id": "UCUjDIVSggzx"
      },
      "outputs": [],
      "source": [
        "saida_es = df.query('Exited == 1 & Geography == \"Spain\"')\n",
        "saida_al = df.query('Geography == \"Germany\" & Exited == 1')\n",
        "saida_fr = df.query('Geography == \"France\" & Exited == 1')"
      ]
    },
    {
      "cell_type": "code",
      "execution_count": null,
      "metadata": {
        "id": "YeDhJK2Dgfjq"
      },
      "outputs": [],
      "source": [
        "graf_es = sns.countplot(data=saida_es, x=\"score_quali\")\n",
        "graf_es.set_xlabel('')\n",
        "graf_es.set_ylabel('')\n",
        "graf_es.set(title = \"Saída por score na espanha\")\n",
        "\n",
        "plt.show()"
      ]
    },
    {
      "cell_type": "code",
      "execution_count": null,
      "metadata": {
        "id": "m50WPBg_hUc7"
      },
      "outputs": [],
      "source": [
        "graf_al = sns.countplot(data=saida_al, x=\"score_quali\")\n",
        "graf_al.set_xlabel('')\n",
        "graf_al.set_ylabel('')\n",
        "graf_al.set(title = \"Saída por score na Alemanha\")"
      ]
    },
    {
      "cell_type": "code",
      "execution_count": null,
      "metadata": {
        "id": "w3DfQsEAhVGJ"
      },
      "outputs": [],
      "source": [
        "graf_fr = sns.countplot(data=saida_fr, x=\"score_quali\")\n",
        "graf_fr.set_xlabel('')\n",
        "graf_fr.set_ylabel('')\n",
        "graf_fr.set(title = \"Saída por score na França\")"
      ]
    }
  ],
  "metadata": {
    "colab": {
      "authorship_tag": "ABX9TyOxvalcmWfJxwqc/nkkmCfg",
      "include_colab_link": true,
      "provenance": []
    },
    "kernelspec": {
      "display_name": "Python 3.6.13 ('envpowerbi')",
      "language": "python",
      "name": "python3"
    },
    "language_info": {
      "name": "python",
      "version": "3.6.13"
    },
    "vscode": {
      "interpreter": {
        "hash": "54b8d883a9ae9279c2ad2d4aaf47b5e23dd84a8bcf8e635985df9ce3edd89461"
      }
    }
  },
  "nbformat": 4,
  "nbformat_minor": 0
}
