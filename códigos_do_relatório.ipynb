{
  "nbformat": 4,
  "nbformat_minor": 0,
  "metadata": {
    "colab": {
      "provenance": []
    },
    "kernelspec": {
      "name": "python3",
      "display_name": "Python 3"
    },
    "language_info": {
      "name": "python"
    }
  },
  "cells": [
    {
      "cell_type": "markdown",
      "source": [
        "#Este notebook apresenta todos os códigos dos gráficos que foram apresentados no relatório."
      ],
      "metadata": {
        "id": "c75avXOJkP7y"
      }
    },
    {
      "cell_type": "markdown",
      "source": [
        "##Primeiras impressões"
      ],
      "metadata": {
        "id": "JNJUustnlVjK"
      }
    },
    {
      "cell_type": "markdown",
      "source": [
        "Importação das bibliotecas"
      ],
      "metadata": {
        "id": "w8UOOmN_NY6S"
      }
    },
    {
      "cell_type": "code",
      "execution_count": null,
      "metadata": {
        "id": "oVKJzaM4NRGc"
      },
      "outputs": [],
      "source": [
        "import pandas as pd\n",
        "import seaborn as sns\n",
        "import warnings\n",
        "import matplotlib.pyplot as plt\n",
        "warnings.filterwarnings(\"ignore\")"
      ]
    },
    {
      "cell_type": "markdown",
      "source": [
        "Leitura do csv e primeira impresão das 5 primeiras linhas"
      ],
      "metadata": {
        "id": "xFc0GbVuNm2D"
      }
    },
    {
      "cell_type": "code",
      "source": [
        "df = pd.read_csv('/content/churn.csv', sep=',')\n",
        "df.head(5)"
      ],
      "metadata": {
        "id": "GaMXsnh_NcKt"
      },
      "execution_count": null,
      "outputs": []
    },
    {
      "cell_type": "markdown",
      "source": [
        "Olhar os tipos de coluna e identificar se há valores nulos."
      ],
      "metadata": {
        "id": "Qg93o9jmN6BX"
      }
    },
    {
      "cell_type": "code",
      "source": [
        "df.info()"
      ],
      "metadata": {
        "id": "H7zapk0eNxW9"
      },
      "execution_count": null,
      "outputs": []
    },
    {
      "cell_type": "code",
      "source": [
        "df.isna()"
      ],
      "metadata": {
        "id": "H0ok5w45lX5D"
      },
      "execution_count": null,
      "outputs": []
    },
    {
      "cell_type": "markdown",
      "source": [
        "Filtrando o dataset para quem saiu"
      ],
      "metadata": {
        "id": "V9bqDGGJODG4"
      }
    },
    {
      "cell_type": "code",
      "source": [
        "saida_pessoal = df.loc[df.Exited == 1]"
      ],
      "metadata": {
        "id": "6_08S3JAOMV9"
      },
      "execution_count": null,
      "outputs": []
    },
    {
      "cell_type": "markdown",
      "source": [
        "Primeiras impressões de quem saiu"
      ],
      "metadata": {
        "id": "hsu2p1SIOVR6"
      }
    },
    {
      "cell_type": "code",
      "source": [
        "saida_pessoal.describe()"
      ],
      "metadata": {
        "id": "Tmw--s5iOaAz"
      },
      "execution_count": null,
      "outputs": []
    },
    {
      "cell_type": "markdown",
      "source": [
        "#1.Iniciando a análise exploratória "
      ],
      "metadata": {
        "id": "EpQAZC2tOk5d"
      }
    },
    {
      "cell_type": "markdown",
      "source": [
        "Gráfico de pizza do percentual de clientes"
      ],
      "metadata": {
        "id": "aH6lLAZKO8Wg"
      }
    },
    {
      "cell_type": "code",
      "source": [
        "values = df.Geography.value_counts()\n",
        "labels = ['Germany','France','Spain']\n",
        "\n",
        "fig, ax = plt.subplots(figsize = (4, 3), dpi = 100)\n",
        "explode = (0, 0.09)\n",
        "\n",
        "patches, texts, autotexts = ax.pie(values, labels = labels, autopct = '%1.2f%%', shadow = True,\n",
        "                                   startangle = 90)\n",
        "\n",
        "plt.setp(texts, color = 'black')\n",
        "plt.setp(autotexts, size = 8, color = 'black')\n",
        "autotexts[1].set_color('black')\n",
        "plt.show()"
      ],
      "metadata": {
        "id": "dF6N7B5ROkT1"
      },
      "execution_count": null,
      "outputs": []
    },
    {
      "cell_type": "markdown",
      "source": [
        "Gráfico de pizza de gênero"
      ],
      "metadata": {
        "id": "XiU_TiAfPM9M"
      }
    },
    {
      "cell_type": "code",
      "source": [
        "values = df.Gender.value_counts()\n",
        "labels = ['Male','Female']\n",
        "\n",
        "fig, ax = plt.subplots(figsize = (4, 3), dpi = 100)\n",
        "explode = (0, 0.09)\n",
        "\n",
        "patches, texts, autotexts = ax.pie(values, labels = labels, autopct = '%1.2f%%', shadow = True,\n",
        "                                   startangle = 90)\n",
        "\n",
        "plt.setp(texts, color = 'black')\n",
        "plt.setp(autotexts, size = 8, color = 'black')\n",
        "autotexts[1].set_color('black')\n",
        "plt.show()"
      ],
      "metadata": {
        "colab": {
          "base_uri": "https://localhost:8080/",
          "height": 263
        },
        "id": "BQaSkhaiPP4r",
        "outputId": "c861689b-0f27-4653-b05d-64e9017abb28"
      },
      "execution_count": null,
      "outputs": [
        {
          "output_type": "display_data",
          "data": {
            "text/plain": [
              "<Figure size 400x300 with 1 Axes>"
            ],
            "image/png": "[encoded data removed]"
          },
          "metadata": {}
        }
      ]
    },
    {
      "cell_type": "markdown",
      "source": [
        "Gráfico de pizza quem saiu e não saiu"
      ],
      "metadata": {
        "id": "N7NEsZbgPgQQ"
      }
    },
    {
      "cell_type": "code",
      "source": [
        "values = df.Exited.value_counts()\n",
        "labels = ['Not Exited', 'Exited']\n",
        "\n",
        "fig, ax = plt.subplots(figsize = (4, 3), dpi = 100)\n",
        "\n",
        "\n",
        "patches, texts, autotexts = ax.pie(values, labels = labels, autopct = '%1.2f%%', shadow = True,\n",
        "                                   startangle = 90)\n",
        "\n",
        "plt.show()"
      ],
      "metadata": {
        "colab": {
          "base_uri": "https://localhost:8080/",
          "height": 263
        },
        "id": "WHKiRi6CPnyR",
        "outputId": "689c8081-8439-482c-9a02-35a7645f3c10"
      },
      "execution_count": null,
      "outputs": [
        {
          "output_type": "display_data",
          "data": {
            "text/plain": [
              "<Figure size 400x300 with 1 Axes>"
            ],
            "image/png": "[encoded data removed]"
          },
          "metadata": {}
        }
      ]
    },
    {
      "cell_type": "markdown",
      "source": [
        "Visualização geral das categorias"
      ],
      "metadata": {
        "id": "FmwubSyFQLDM"
      }
    },
    {
      "cell_type": "code",
      "source": [
        "fig, ax = plt.subplots(3, 2, figsize = (10, 15))\n",
        "\n",
        "sns.countplot(x = 'Geography', hue = 'Exited', data = df, ax = ax[0][0])\n",
        "sns.countplot(x = 'Gender', hue = 'Exited', data = df, ax = ax[0][1])\n",
        "sns.countplot(x = 'Tenure', hue = 'Exited', data = df, ax = ax[1][0])\n",
        "sns.countplot(x = 'NumOfProducts', hue = 'Exited', data = df, ax = ax[1][1])\n",
        "sns.countplot(x = 'HasCrCard', hue = 'Exited', data = df, ax = ax[2][0])\n",
        "sns.countplot(x = 'IsActiveMember', hue = 'Exited', data = df, ax = ax[2][1])\n",
        "\n",
        "plt.tight_layout()\n",
        "plt.show()"
      ],
      "metadata": {
        "colab": {
          "base_uri": "https://localhost:8080/",
          "height": 1000
        },
        "id": "wUbUzirAQKdp",
        "outputId": "b9493030-27ab-4a11-ae0e-1122b7c3ce74"
      },
      "execution_count": null,
      "outputs": [
        {
          "output_type": "display_data",
          "data": {
            "text/plain": [
              "<Figure size 720x1080 with 6 Axes>"
            ],
            "image/png": "[encoded data removed]"
          },
          "metadata": {
            "needs_background": "light"
          }
        }
      ]
    },
    {
      "cell_type": "markdown",
      "source": [
        "#2. Aprofundando a análise exploratória"
      ],
      "metadata": {
        "id": "33VpvEM-Qhxo"
      }
    },
    {
      "cell_type": "markdown",
      "source": [
        "##2.1 IDADE"
      ],
      "metadata": {
        "id": "yi0EajCOVeEH"
      }
    },
    {
      "cell_type": "markdown",
      "source": [
        "Observando a frequencia por idade"
      ],
      "metadata": {
        "id": "TreoIJJwQ2eD"
      }
    },
    {
      "cell_type": "code",
      "source": [
        "hist_age = sns.histplot(saida_pessoal['Age'], kde= False, bins = 25 )\n",
        "hist_age.figure.set_size_inches(15, 5)\n",
        "hist_age.set_title('Distribuição de Frequências por idade', fontsize=20)\n",
        "hist_age.set_xlabel('Idade', fontsize=16)\n",
        "hist_age\n",
        "plt.show()"
      ],
      "metadata": {
        "id": "mcoIXG4CQnUA"
      },
      "execution_count": null,
      "outputs": []
    },
    {
      "cell_type": "markdown",
      "source": [
        "Idade entre 40 e 60"
      ],
      "metadata": {
        "id": "NxmTWsCYUuqn"
      }
    },
    {
      "cell_type": "code",
      "source": [
        "#40-60\n",
        "saida4060 = df.query('40 <= Age <= 60')\n",
        "saida4060.value_counts()\n",
        "graf4060 = sns.countplot(x='Age', hue='Exited', data = saida4060)\n",
        "graf4060.figure.set_size_inches(30,5)\n",
        "graf4060.set(title = 'Proporção do Exited entre 40 e 60 anos')\n",
        "graf4060.set_xlabel(\"Idade\")\n",
        "graf4060.set_ylabel(\"\")\n",
        "plt.show()"
      ],
      "metadata": {
        "colab": {
          "base_uri": "https://localhost:8080/",
          "height": 325
        },
        "id": "lXRLcMdfRPEI",
        "outputId": "a8d120e5-b982-4ea2-ae2c-092bdc1bdcfc"
      },
      "execution_count": null,
      "outputs": [
        {
          "output_type": "display_data",
          "data": {
            "text/plain": [
              "<Figure size 2160x360 with 1 Axes>"
            ],
            "image/png": "[encoded data removed]"
          },
          "metadata": {
            "needs_background": "light"
          }
        }
      ]
    },
    {
      "cell_type": "markdown",
      "source": [
        "Idade entre 18 e 39"
      ],
      "metadata": {
        "id": "KZPotNWzUw4K"
      }
    },
    {
      "cell_type": "code",
      "source": [
        "saida1839 = df.query('18 <= Age <= 39')\n",
        "saida1839.value_counts()\n",
        "graf1839 = sns.countplot(x='Age', hue='Exited', data = saida1839)\n",
        "graf1839.figure.set_size_inches(30,5)\n",
        "plt.show()"
      ],
      "metadata": {
        "id": "G4BD191sU3Aq"
      },
      "execution_count": null,
      "outputs": []
    },
    {
      "cell_type": "markdown",
      "source": [
        "Idade maior que 60"
      ],
      "metadata": {
        "id": "EvpAIp_lVHJf"
      }
    },
    {
      "cell_type": "code",
      "source": [
        "saida6092 = df.query('18 <= Age <= 39')\n",
        "saida6092.value_counts()\n",
        "graf6092 = sns.countplot(x='Age', hue='Exited', data = saida6092)\n",
        "graf6092.figure.set_size_inches(30,5)\n",
        "plt.show()"
      ],
      "metadata": {
        "id": "LlQKhSHCVI7F"
      },
      "execution_count": null,
      "outputs": []
    },
    {
      "cell_type": "markdown",
      "source": [],
      "metadata": {
        "id": "zx9DoJGJVWjE"
      }
    },
    {
      "cell_type": "markdown",
      "source": [
        "##2.2 CREDIT SCORE"
      ],
      "metadata": {
        "id": "0nvmJl8UVgQc"
      }
    },
    {
      "cell_type": "markdown",
      "source": [
        "Definição faixa de score"
      ],
      "metadata": {
        "id": "gLdbDQCHVvCl"
      }
    },
    {
      "cell_type": "code",
      "source": [
        "def faixa_score (score):\n",
        "  if score <= 475:\n",
        "    return '350 - 475'\n",
        "  if score <= 600:\n",
        "    return '475 - 600'\n",
        "  if score <= 725:\n",
        "    return '600 - 725'\n",
        "  if score <= 850:\n",
        "    return '725 - 850'\n",
        "\n",
        "df['score_quali'] = [faixa_score(score) for score in df.CreditScore.to_list()]\n",
        "df['score_quali'].value_counts()"
      ],
      "metadata": {
        "id": "lBQYrF7pVje1"
      },
      "execution_count": null,
      "outputs": []
    },
    {
      "cell_type": "code",
      "source": [
        "saida_pelo_score = df.query(\"Exited == 1\")\n",
        "hist_age = sns.histplot(saida_pelo_score['score_quali'], kde= False, bins = 25 )\n",
        "hist_age.figure.set_size_inches(15, 5)\n",
        "hist_age.set_title('Distribuição de Frequências por score das pessoas que saíram', fontsize=20)\n",
        "hist_age.set_xlabel('Score', fontsize=16)\n",
        "hist_age\n",
        "plt.show()"
      ],
      "metadata": {
        "id": "u6ab11DUV6-W"
      },
      "execution_count": null,
      "outputs": []
    },
    {
      "cell_type": "code",
      "source": [
        "saida_pessoal = df.query(\"Exited == 1\")"
      ],
      "metadata": {
        "id": "H9VFOhvaAzYD"
      },
      "execution_count": null,
      "outputs": []
    },
    {
      "cell_type": "code",
      "source": [
        "cnt_scr = sns.countplot(data=saida_pessoal, x= 'score_quali', order = ['350 - 475','475 - 600','600 - 725','725 - 850']) \n",
        "cnt_scr.set_xlabel('Score')\n",
        "cnt_scr.set_ylabel('')\n",
        "cnt_scr.set(title = \"Contagem por faixa de score das pessoas que saíram\")\n",
        "plt.show()"
      ],
      "metadata": {
        "id": "F0KujW8EAT6j"
      },
      "execution_count": null,
      "outputs": []
    },
    {
      "cell_type": "markdown",
      "source": [
        "Proporção faixa de score"
      ],
      "metadata": {
        "id": "0nyGRG3pV_kx"
      }
    },
    {
      "cell_type": "code",
      "source": [
        "grafscore = sns.countplot(x = 'score_quali', hue = 'Exited', data = df)\n",
        "grafscore.figure.set_size_inches(30,5)\n",
        "grafscore.set_ylabel('')\n",
        "grafscore.set_xlabel('Score')\n",
        "plt.show()"
      ],
      "metadata": {
        "id": "PlKbR7DjWBxh"
      },
      "execution_count": null,
      "outputs": []
    },
    {
      "cell_type": "markdown",
      "source": [
        "##2.3 SALÁRIO"
      ],
      "metadata": {
        "id": "IGNeo_KkXbfA"
      }
    },
    {
      "cell_type": "code",
      "source": [
        "saida_pessoal = df.query('Exited == 1')"
      ],
      "metadata": {
        "id": "bB8MOcrVYVHj"
      },
      "execution_count": null,
      "outputs": []
    },
    {
      "cell_type": "markdown",
      "source": [
        "Criando uma faixa para salario"
      ],
      "metadata": {
        "id": "P0B-bCZkYi-j"
      }
    },
    {
      "cell_type": "code",
      "source": [
        "def faixa_salario(salario):\n",
        "  if salario <= 50000:\n",
        "    return '0 - 50'\n",
        "  if 100000 >= salario > 50000:\n",
        "    return '50 - 100'\n",
        "  if 150000 >= salario > 100000:\n",
        "    return '100 - 150'\n",
        "  if 200000 >= salario > 150000:\n",
        "    return '150 - 200'\n",
        "\n",
        "#to_list é uma função que transforma coluna em lista para eu poder iterar\n",
        "df['faixa_salario'] = [faixa_salario(salario) for salario in df.EstimatedSalary.to_list()]\n"
      ],
      "metadata": {
        "id": "mJr931SMYCFi"
      },
      "execution_count": 102,
      "outputs": []
    },
    {
      "cell_type": "code",
      "source": [
        "saida_pessoal = df.query('Exited == 1')"
      ],
      "metadata": {
        "id": "9Jl8Mu_ju8eF"
      },
      "execution_count": null,
      "outputs": []
    },
    {
      "cell_type": "code",
      "source": [
        "saida_pessoal['faixa_salario'].value_counts()"
      ],
      "metadata": {
        "colab": {
          "base_uri": "https://localhost:8080/"
        },
        "id": "6uJ8Np2du5ec",
        "outputId": "a8cc9f0b-b408-4013-a784-4c4bc6f08594"
      },
      "execution_count": null,
      "outputs": [
        {
          "output_type": "execute_result",
          "data": {
            "text/plain": [
              "150 - 200    527\n",
              "100 - 150    517\n",
              "50 - 100     504\n",
              "0 - 50       489\n",
              "Name: faixa_salario, dtype: int64"
            ]
          },
          "metadata": {},
          "execution_count": 59
        }
      ]
    },
    {
      "cell_type": "markdown",
      "source": [
        "Distribuição dos salários totais\n"
      ],
      "metadata": {
        "id": "eA0TiZ0CYpeB"
      }
    },
    {
      "cell_type": "code",
      "source": [
        "hist_sal = sns.histplot(df['EstimatedSalary'], kde= False, bins = 25 )\n",
        "hist_sal.figure.set_size_inches(15, 5)\n",
        "hist_sal.set_title('Distribuição de Frequências por salário', fontsize=20)\n",
        "hist_sal.set_xlabel('Salário', fontsize=16)\n",
        "hist_sal\n",
        "plt.show()"
      ],
      "metadata": {
        "id": "YgP6uv6AX95y",
        "colab": {
          "base_uri": "https://localhost:8080/",
          "height": 361
        },
        "outputId": "9383f8c6-769b-4b38-f7e8-d5d7a1e9e5b5"
      },
      "execution_count": null,
      "outputs": [
        {
          "output_type": "display_data",
          "data": {
            "text/plain": [
              "<Figure size 1080x360 with 1 Axes>"
            ],
            "image/png": "[encoded data removed]"
          },
          "metadata": {
            "needs_background": "light"
          }
        }
      ]
    },
    {
      "cell_type": "markdown",
      "source": [
        "Distribuição das faixas de salário"
      ],
      "metadata": {
        "id": "WK-DJ6FfYtMe"
      }
    },
    {
      "cell_type": "code",
      "source": [
        "hist_sal = sns.histplot(df['faixa_salario'], kde= False, bins = 25) #order = ['0 - 50','50 - 100','100 - 150','150 - 200'] )\n",
        "hist_sal.figure.set_size_inches(15, 5)\n",
        "hist_sal.set_title('Distribuição de salário das pessoas que saíram', fontsize=20)\n",
        "hist_sal.set_xlabel('Salário', fontsize=16)\n",
        "hist_sal\n",
        "plt.show()"
      ],
      "metadata": {
        "id": "l5SaD2xtYl8f"
      },
      "execution_count": null,
      "outputs": []
    },
    {
      "cell_type": "code",
      "source": [
        "cnt_sal = sns.countplot(data=saida_pessoal, x= 'faixa_salario', order = ['0 - 50','50 - 100','100 - 150','150 - 200'])\n",
        "cnt_sal.set_xlabel('Salário')\n",
        "cnt_sal.set_ylabel('')\n",
        "cnt_sal.set(title = \"Contagem por faixa de salário das pessoas que saíram\")\n",
        "plt.show()"
      ],
      "metadata": {
        "colab": {
          "base_uri": "https://localhost:8080/",
          "height": 295
        },
        "id": "tofu9y3s99sK",
        "outputId": "e768057b-053e-4825-9303-760f31c4de5b"
      },
      "execution_count": null,
      "outputs": [
        {
          "output_type": "display_data",
          "data": {
            "text/plain": [
              "<Figure size 432x288 with 1 Axes>"
            ],
            "image/png": "[encoded data removed]"
          },
          "metadata": {
            "needs_background": "light"
          }
        }
      ]
    },
    {
      "cell_type": "markdown",
      "source": [
        "##BALANCE"
      ],
      "metadata": {
        "id": "x5K05p7pY7aj"
      }
    },
    {
      "cell_type": "markdown",
      "source": [
        "TOTAL DE CLIENTES COM BALANCE = 0"
      ],
      "metadata": {
        "id": "TqYGhUBXZ_Z1"
      }
    },
    {
      "cell_type": "code",
      "source": [
        "balance0 = df.query('Balance == 0')\n",
        "sns.countplot('Balance', hue = 'Exited', data = balance0)\n",
        "plt.show()\n",
        "\n",
        "\n"
      ],
      "metadata": {
        "id": "EoBfeF0zZoCp",
        "colab": {
          "base_uri": "https://localhost:8080/"
        },
        "outputId": "62c50e28-5e8d-45ba-d78e-9c618bafe804"
      },
      "execution_count": null,
      "outputs": [
        {
          "output_type": "display_data",
          "data": {
            "text/plain": [
              "<Figure size 432x288 with 1 Axes>"
            ],
            "image/png": "[encoded data removed]"
          },
          "metadata": {
            "needs_background": "light"
          }
        }
      ]
    },
    {
      "cell_type": "markdown",
      "source": [
        "ATIVOS QUE SAÍRAM COM BALANCE = 0 E POSSUEM CARTÃO DE CRÉDITO"
      ],
      "metadata": {
        "id": "4fQ3dIREaGYj"
      }
    },
    {
      "cell_type": "code",
      "source": [
        "ativos = df.query('Balance == 0 & Exited == 1 & IsActiveMember == 1')\n",
        "graf_als = sns.countplot(x='HasCrCard', data = ativos, hue = 'HasCrCard')\n",
        "graf_als.figure.set_size_inches(8,5)\n",
        "graf_als.set(title=\"Ativos\")\n",
        "\n",
        "plt.show()"
      ],
      "metadata": {
        "id": "-bs3rZKLaKKj",
        "colab": {
          "base_uri": "https://localhost:8080/"
        },
        "outputId": "0f7b2cb7-f0e0-4bce-d30b-17071f671e57"
      },
      "execution_count": null,
      "outputs": [
        {
          "output_type": "display_data",
          "data": {
            "text/plain": [
              "<Figure size 576x360 with 1 Axes>"
            ],
            "image/png": "[encoded data removed]"
          },
          "metadata": {
            "needs_background": "light"
          }
        }
      ]
    },
    {
      "cell_type": "markdown",
      "source": [
        "INATIVOS QUE SAÍRAM COM BALANCE = 0 E POSSUEM CARTÃO DE CRÉDITO"
      ],
      "metadata": {
        "id": "mMRV0gGVaRvi"
      }
    },
    {
      "cell_type": "code",
      "source": [
        "inativos = df.query('Balance == 0 & Exited == 1 & IsActiveMember == 0')\n",
        "graf_als = sns.countplot(x='HasCrCard', data = inativos, hue = 'HasCrCard')\n",
        "graf_als.figure.set_size_inches(8,5)\n",
        "graf_als.set(title=\"Ativos\")\n",
        "\n",
        "plt.show()"
      ],
      "metadata": {
        "id": "pfwUD3DqaVOQ",
        "colab": {
          "base_uri": "https://localhost:8080/"
        },
        "outputId": "245d6fd2-8596-433b-84b4-0ee72f325c5d"
      },
      "execution_count": null,
      "outputs": [
        {
          "output_type": "display_data",
          "data": {
            "text/plain": [
              "<Figure size 576x360 with 1 Axes>"
            ],
            "image/png": "[encoded data removed]"
          },
          "metadata": {
            "needs_background": "light"
          }
        }
      ]
    },
    {
      "cell_type": "markdown",
      "source": [
        "##PAÍS"
      ],
      "metadata": {
        "id": "-H0TgSKmbpnB"
      }
    },
    {
      "cell_type": "markdown",
      "source": [
        "PESSOAS QUE SAÍRAM POR PAÍS"
      ],
      "metadata": {
        "id": "fmPdx8Nxb3QI"
      }
    },
    {
      "cell_type": "code",
      "source": [
        "values = saida_pessoal.Geography.value_counts()\n",
        "labels = ['Germany','France','Spain']\n",
        "\n",
        "fig, ax = plt.subplots(figsize = (4, 3), dpi = 100)\n",
        "explode = (0, 0.09)\n",
        "\n",
        "patches, texts, autotexts = ax.pie(values, labels = labels, autopct = '%1.2f%%', shadow = True,\n",
        "                                   startangle = 90)\n",
        "\n",
        "plt.setp(texts, color = 'black')\n",
        "plt.setp(autotexts, size = 8, color = 'black')\n",
        "autotexts[1].set_color('black')\n",
        "plt.show()"
      ],
      "metadata": {
        "id": "uIU5qUPfbsug"
      },
      "execution_count": null,
      "outputs": []
    },
    {
      "cell_type": "markdown",
      "source": [
        "GRÁFICO DE BARRAS PARA ENTENDER A PROPORÇÃO DE QUEM DEU CHURN POR PAÍS"
      ],
      "metadata": {
        "id": "t9-bJNNdcbXS"
      }
    },
    {
      "cell_type": "code",
      "source": [
        "df\n",
        "sairambarras = sns.countplot(x='Geography', data = df, hue = 'Exited')"
      ],
      "metadata": {
        "id": "fcjrfepEb5fs",
        "colab": {
          "base_uri": "https://localhost:8080/",
          "height": 279
        },
        "outputId": "6d59dff1-946c-4175-b109-bd123328d861"
      },
      "execution_count": null,
      "outputs": [
        {
          "output_type": "display_data",
          "data": {
            "text/plain": [
              "<Figure size 432x288 with 1 Axes>"
            ],
            "image/png": "[encoded data removed]"
          },
          "metadata": {
            "needs_background": "light"
          }
        }
      ]
    },
    {
      "cell_type": "markdown",
      "source": [
        "BOXPLOT DE IDADE POR PAÍS"
      ],
      "metadata": {
        "id": "t2JK0n1XcmBK"
      }
    },
    {
      "cell_type": "code",
      "source": [
        "saidas_pais = sns.boxplot(x = saida_pessoal[\"Age\"], y = saida_pessoal[\"Geography\"])\n",
        "saidas_pais.set(title=\"Concentração de saída por idade nos países\")\n",
        "plt.ylabel(\"\")\n",
        "plt.xlabel(\"Idade\")\n",
        "plt.xlim(18,60)\n",
        "\n",
        "plt.show()"
      ],
      "metadata": {
        "id": "4upIPjyGckBC",
        "colab": {
          "base_uri": "https://localhost:8080/",
          "height": 295
        },
        "outputId": "cde053ea-c346-4115-9527-73ba26a289aa"
      },
      "execution_count": null,
      "outputs": [
        {
          "output_type": "display_data",
          "data": {
            "text/plain": [
              "<Figure size 432x288 with 1 Axes>"
            ],
            "image/png": "[encoded data removed]"
          },
          "metadata": {
            "needs_background": "light"
          }
        }
      ]
    },
    {
      "cell_type": "markdown",
      "source": [
        "OBSERVAR OS SALÁRIOS, PARA ISSO FOI DEFINIDO OS SALÁRIOS PELA IDADE. AQUI PUDE ENCONTRAR MAIS VARIAÇÕES"
      ],
      "metadata": {
        "id": "VECzt0p_c_8S"
      }
    },
    {
      "cell_type": "code",
      "source": [
        "#observar outras variaveis pela idade.\n",
        "idade_franca = df.query('Geography == \"France\" & 37 < Age < 53 & Exited == 1')\n",
        "idade_espanha = df.query('Geography == \"Spain\" & 35 < Age < 52 & Exited == 1')\n",
        "idade_alemanha = df.query('Geography == \"Germany\" & 38 < Age < 52 & Exited == 1')"
      ],
      "metadata": {
        "id": "Mb4FomPlc_eu"
      },
      "execution_count": null,
      "outputs": []
    },
    {
      "cell_type": "markdown",
      "source": [
        "SAÍDA POR SALÁRIO NA ESPANHA"
      ],
      "metadata": {
        "id": "kzIjf7l1c5Ey"
      }
    },
    {
      "cell_type": "code",
      "source": [
        "graf_es = sns.countplot(data=idade_espanha, x=\"faixa_salario\", order = ['0 - 50', '50 - 100','100 - 150','150 - 200'])\n",
        "graf_es.set_xlabel('')\n",
        "graf_es.set_ylabel('')\n",
        "graf_es.set(title = \"Saída por salário na Espanha (35-52 anos\")"
      ],
      "metadata": {
        "id": "d5cKTq2Rcswh"
      },
      "execution_count": null,
      "outputs": []
    },
    {
      "cell_type": "markdown",
      "source": [
        "SAÍDA POR SALÁRIO NA ALEMANHA"
      ],
      "metadata": {
        "id": "vdbaaRSmdTin"
      }
    },
    {
      "cell_type": "code",
      "source": [
        "graf_al = sns.countplot(data=idade_alemanha, x=\"faixa_salario\", order = ['0 - 50', '50 - 100','100 - 150','150 - 200'])\n",
        "graf_al.set_xlabel('')\n",
        "graf_al.set_ylabel('')\n",
        "graf_al.set(title = \"Saída por salário na Alemanha (39-52 anos)\")"
      ],
      "metadata": {
        "id": "afa_miNKdf1j"
      },
      "execution_count": null,
      "outputs": []
    },
    {
      "cell_type": "markdown",
      "source": [
        "SAÍDA POR SALÁRIO NA FRANÇA"
      ],
      "metadata": {
        "id": "CT6zTtW8dh2L"
      }
    },
    {
      "cell_type": "code",
      "source": [
        "graf_fr = sns.countplot(data=idade_franca, x=\"faixa_salario\", order = ['0 - 50', '50 - 100','100 - 150','150 - 200'])\n",
        "graf_fr.set_xlabel('')\n",
        "graf_fr.set_ylabel('')\n",
        "graf_fr.set(title = \"Saída por salário na França (37-53 anos)\")\n",
        "plt.show()"
      ],
      "metadata": {
        "id": "e22HYsd5dkiF"
      },
      "execution_count": null,
      "outputs": []
    },
    {
      "cell_type": "markdown",
      "source": [
        "SAÍDA POR ATIVIDADE POR PAÍS"
      ],
      "metadata": {
        "id": "wQbzrLjrdsW6"
      }
    },
    {
      "cell_type": "code",
      "source": [
        "saiu_pais = df.query('Exited == 1')\n",
        "\n",
        "grafico = sns.countplot(x = 'Geography', hue = 'IsActiveMember', data = saiu_pais)\n",
        "grafico.set(title = \"Saída por atividade\")"
      ],
      "metadata": {
        "id": "zCbXcXn5dwOc"
      },
      "execution_count": null,
      "outputs": []
    },
    {
      "cell_type": "markdown",
      "source": [
        "SAÍDA POR ATIVIDADE E SEM SALDO EM CONTA(NINGUÉM NA ALEMANHA)"
      ],
      "metadata": {
        "id": "LOtcywyVd20v"
      }
    },
    {
      "cell_type": "code",
      "source": [
        "saiu_0 = df.query('Exited == 1 & Balance == 0')\n",
        "\n",
        "grafico = sns.countplot(x = 'Geography', hue = 'IsActiveMember', data = saiu_0)\n",
        "grafico.set(title = \"Saída por atividade\")"
      ],
      "metadata": {
        "id": "dWa9nXHpeK4v"
      },
      "execution_count": null,
      "outputs": []
    },
    {
      "cell_type": "markdown",
      "source": [
        "SAÍDA PELA FAIXA DE SCORE EM CADA PAÍS"
      ],
      "metadata": {
        "id": "hYkrKf0ReeTs"
      }
    },
    {
      "cell_type": "code",
      "source": [
        "saida_es = df.query('Exited == 1 & Geography == \"Spain\"')\n",
        "saida_al = df.query('Geography == \"Germany\" & Exited == 1')\n",
        "saida_fr = df.query('Geography == \"France\" & Exited == 1')"
      ],
      "metadata": {
        "id": "0Y5lgr5cevtM"
      },
      "execution_count": null,
      "outputs": []
    },
    {
      "cell_type": "markdown",
      "source": [
        "SAÍDAS NA ESPANHA"
      ],
      "metadata": {
        "id": "DbUTns5deyn6"
      }
    },
    {
      "cell_type": "code",
      "source": [
        "graf_esp = sns.countplot(data=saida_es, x=\"score_quali\" , order = ['350 - 475','475 - 600','600 - 725','725 - 850'])\n",
        "graf_esp.set_xlabel('')\n",
        "graf_esp.set_ylabel('')\n",
        "graf_esp.set(title = \"Saída por score na espanha\")\n",
        "\n",
        "plt.show()"
      ],
      "metadata": {
        "id": "KtBuR__leip3",
        "colab": {
          "base_uri": "https://localhost:8080/",
          "height": 281
        },
        "outputId": "aae0b5e1-b3bb-4d39-b41d-6e1a89565c55"
      },
      "execution_count": null,
      "outputs": [
        {
          "output_type": "display_data",
          "data": {
            "text/plain": [
              "<Figure size 432x288 with 1 Axes>"
            ],
            "image/png": "[encoded data removed]"
          },
          "metadata": {
            "needs_background": "light"
          }
        }
      ]
    },
    {
      "cell_type": "markdown",
      "source": [
        "SAÍDAS NA FRANÇA"
      ],
      "metadata": {
        "id": "eyfTeSd6e1fP"
      }
    },
    {
      "cell_type": "code",
      "source": [
        "graf_fra = sns.countplot(data=saida_fr, x=\"score_quali\",order = ['350 - 475','475 - 600','600 - 725','725 - 850'])\n",
        "graf_fra.set_xlabel('')\n",
        "graf_fra.set_ylabel('')\n",
        "graf_fra.set(title = \"Saída por score na França\")"
      ],
      "metadata": {
        "id": "f185ZkZbe5wY",
        "colab": {
          "base_uri": "https://localhost:8080/",
          "height": 299
        },
        "outputId": "50b76556-967b-41ac-bee8-f4c5f6a593ef"
      },
      "execution_count": null,
      "outputs": [
        {
          "output_type": "execute_result",
          "data": {
            "text/plain": [
              "[Text(0.5, 1.0, 'Saída por score na França')]"
            ]
          },
          "metadata": {},
          "execution_count": 80
        },
        {
          "output_type": "display_data",
          "data": {
            "text/plain": [
              "<Figure size 432x288 with 1 Axes>"
            ],
            "image/png": "[encoded data removed]"
          },
          "metadata": {
            "needs_background": "light"
          }
        }
      ]
    },
    {
      "cell_type": "markdown",
      "source": [
        "SAÍDAS NA ALEMANHA"
      ],
      "metadata": {
        "id": "7AkAtiyUe3N9"
      }
    },
    {
      "cell_type": "code",
      "source": [
        "graf_ale = sns.countplot(data=saida_al, x=\"score_quali\",order = ['350 - 475','475 - 600','600 - 725','725 - 850'])\n",
        "graf_ale.set_xlabel('')\n",
        "graf_ale.set_ylabel('')\n",
        "graf_ale.set(title = \"Saída por score na Alemanha\")"
      ],
      "metadata": {
        "id": "YjTJ0EzTe_M1",
        "colab": {
          "base_uri": "https://localhost:8080/",
          "height": 299
        },
        "outputId": "51576c15-cd49-4963-9ee6-a0d85daeb432"
      },
      "execution_count": null,
      "outputs": [
        {
          "output_type": "execute_result",
          "data": {
            "text/plain": [
              "[Text(0.5, 1.0, 'Saída por score na Alemanha')]"
            ]
          },
          "metadata": {},
          "execution_count": 81
        },
        {
          "output_type": "display_data",
          "data": {
            "text/plain": [
              "<Figure size 432x288 with 1 Axes>"
            ],
            "image/png": "[encoded data removed]"
          },
          "metadata": {
            "needs_background": "light"
          }
        }
      ]
    }
  ]
}
