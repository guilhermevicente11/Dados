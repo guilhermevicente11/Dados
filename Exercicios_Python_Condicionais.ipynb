{
  "nbformat": 4,
  "nbformat_minor": 0,
  "metadata": {
    "colab": {
      "provenance": [],
      "collapsed_sections": [],
      "authorship_tag": "ABX9TyO6TwjalVMYxL5VzUzahVw1",
      "include_colab_link": true
    },
    "kernelspec": {
      "name": "python3",
      "display_name": "Python 3"
    },
    "language_info": {
      "name": "python"
    }
  },
  "cells": [
    {
      "cell_type": "markdown",
      "metadata": {
        "id": "view-in-github",
        "colab_type": "text"
      },
      "source": [
        "<a href=\"https://colab.research.google.com/github/guilhermevicente11/Dados/blob/main/Exercicios_Python_Condicionais.ipynb\" target=\"_parent\"><img src=\"https://colab.research.google.com/assets/colab-badge.svg\" alt=\"Open In Colab\"/></a>"
      ]
    },
    {
      "cell_type": "code",
      "execution_count": null,
      "metadata": {
        "colab": {
          "base_uri": "https://localhost:8080/"
        },
        "id": "Xlwe1E-Uqfwn",
        "outputId": "4dd2fa63-26b2-4793-cb87-6c3f2db00e81"
      },
      "outputs": [
        {
          "output_type": "stream",
          "name": "stdout",
          "text": [
            "Digite sua idade: 18\n",
            "Maior de idade\n"
          ]
        }
      ],
      "source": [
        "#Programa que peça a idade da pessoa e imprima se ela é maior ou menor de 18 anos.\n",
        "\n",
        "idade = int(input(\"Digite sua idade: \"))\n",
        "\n",
        "if (idade >= 18):\n",
        "  print(\"Maior de idade\")\n",
        "else:\n",
        "  print(\"Menor de idade\")"
      ]
    },
    {
      "cell_type": "code",
      "source": [
        "#Programa que peça um número e mostre se ele é positivo ou negativo.\n",
        "\n",
        "numero = float(input(\"Digite seu numero: \"))\n",
        "\n",
        "if (numero > 0):\n",
        "  print(\"Numero positivo\")\n",
        "elif (numero == 0):\n",
        "  print(\"Neutro\")\n",
        "else:\n",
        "  print(\"Numero negativo\")\n"
      ],
      "metadata": {
        "colab": {
          "base_uri": "https://localhost:8080/"
        },
        "id": "xHW_gSaJyJGn",
        "outputId": "65400476-efa2-4bd6-c0b5-7e3d5f2f387b"
      },
      "execution_count": null,
      "outputs": [
        {
          "output_type": "stream",
          "name": "stdout",
          "text": [
            "Digite seu numero: -0.0000001\n",
            "Numero negativo\n"
          ]
        }
      ]
    },
    {
      "cell_type": "code",
      "source": [
        "primeiro_numero = float(input(\"digite um numero: \"))\n",
        "segundo_numero = float(input(\"digite um numero: \"))\n",
        "\n",
        "if (primeiro_numero > segundo_numero):\n",
        "  print(f\"{primeiro_numero} é maior do que {segundo_numero}.\")\n",
        "\n",
        "elif (primeiro_numero == segundo_numero):\n",
        "  print(f\"Os numeros são iguais.\")\n",
        "\n",
        "else:\n",
        "  print(f\"{segundo_numero} é maior do que {primeiro_numero}.\")\n"
      ],
      "metadata": {
        "colab": {
          "base_uri": "https://localhost:8080/"
        },
        "id": "PQn0Dxe80UXA",
        "outputId": "e08b6101-9044-4883-ac86-326d694e524e"
      },
      "execution_count": null,
      "outputs": [
        {
          "output_type": "stream",
          "name": "stdout",
          "text": [
            "digite um numero: 142536987\n",
            "digite um numero: 142536988\n",
            "142536988.0 é maior do que 142536987.0.\n"
          ]
        }
      ]
    },
    {
      "cell_type": "code",
      "source": [
        "#Programa que peça a nota de 3 provas de um aluno e mostre se ele passou ou não de ano.\n",
        "#O aluno irá passar de ano se a média das suas notas for maior ou igual a 6 (média é a soma das notas dividido pelo número de provas).\n",
        "\n",
        "nota_1 = float(input(\"Digite sua primeira nota: \"))\n",
        "nota_2 = float(input(\"Digite sua segunda nota: \"))\n",
        "nota_3 = float(input(\"Digite sua terceira nota: \"))\n",
        "\n",
        "media = (nota_1 + nota_2 + nota_3) / 3\n",
        "media = round(media,2)\n",
        "\n",
        "\n",
        "if (media >= 6):\n",
        "  print(f\"{media}: APROVADO\")\n",
        "else:\n",
        "  print(f\"{media}: REPROVADO\")\n",
        "\n",
        "\n",
        "\n"
      ],
      "metadata": {
        "colab": {
          "base_uri": "https://localhost:8080/"
        },
        "id": "2bIzmbXX2QzE",
        "outputId": "1f04e559-f42b-4140-d829-27904590b417"
      },
      "execution_count": null,
      "outputs": [
        {
          "output_type": "stream",
          "name": "stdout",
          "text": [
            "Digite sua primeira nota: 6.5\n",
            "Digite sua segunda nota: 5.4\n",
            "Digite sua terceira nota: 5.5\n",
            "5.8: REPROVADO\n"
          ]
        }
      ]
    },
    {
      "cell_type": "code",
      "source": [
        "\n",
        "# Faça um programa que mostre uma questão de múltipla escolha com 5 opções (letras a, b, c, d, e). Sabendo a resposta certa, \n",
        "# o programa deve receber a opção do usuário e informar a letra que o usuário marcou e se a resposta está certa ou errada.\n",
        "# resposta certa = c\n",
        "\n",
        "print(\"Qual a raiz quadrada de de 729?\")\n",
        "\n",
        "print(\"a)23 b)29 c)27 d)33 e)19\")\n",
        "\n",
        "resposta = input(\"Qual letra está correta?: \")\n",
        "resposta_correta = \"c\"\n",
        "\n",
        "if (resposta == resposta_correta ):\n",
        "  print(\"A resposta está correta\")\n",
        "else:\n",
        "  print(f\"Resposta incorreta, a resposta é letra {resposta_correta}, 27\")"
      ],
      "metadata": {
        "colab": {
          "base_uri": "https://localhost:8080/"
        },
        "id": "Uuj_0-H-4yFJ",
        "outputId": "d85f5c62-40f3-4df0-b0ae-f3473bd51d10"
      },
      "execution_count": null,
      "outputs": [
        {
          "output_type": "stream",
          "name": "stdout",
          "text": [
            "Qual a raiz quadrada de de 729?\n",
            "a)23 b)29 c)27 d)33 e)19\n",
            "Qual letra está correta?: D\n",
            "Resposta incorreta, a resposta é letra c, 27\n"
          ]
        }
      ]
    },
    {
      "cell_type": "code",
      "source": [
        "#Fazer um programa para verificar quem é o assassino de um crime. Para descobrir o assassino,\n",
        "#a polícia faz um pequeno questionário com 5 perguntas onde a resposta só pode ser sim ou não:\n",
        "\n",
        "#a. Mora perto da vítima?\n",
        "#b. Já trabalhou com a vítima?\n",
        "#c. Telefonou para a vítima?\n",
        "#d. Esteve no local do crime?\n",
        "#e. Devia para a vítima?\n",
        "\n",
        "#Cada resposta sim dá um ponto para o suspeito. A polícia considera que os suspeitos com 5 pontos \n",
        "#são os assassinos, com 4 a 3 pontos são cúmplices e 2 pontos são apenas suspeitos,\n",
        "#necessitando outras investigações. Valores abaixo de 1 são liberados.\n",
        "\n",
        "print(\"RESPONDA 1 PARA SIM, 0 PARA NÃO\")\n",
        "\n",
        "res_1 = int(input(\"Mora perto da vítima?: \"))\n",
        "res_2 = int(input(\"Já trabalhou com a vítima?: \"))\n",
        "res_3 = int(input(\"Telefonou para a vítima?: \"))\n",
        "res_4 = int(input(\"Esteve no local do crime?: \"))\n",
        "res_5 = int(input(\"Devia para a vítima?: \"))\n",
        "\n",
        "soma_res = res_1 + res_2 + res_3 + res_4 + res_5\n",
        "\n",
        "if(soma_res == 3 or soma_res == 4 ):\n",
        "  print(\"Cumplice\") \n",
        "elif(soma_res == 5):\n",
        "  print(\"Assassino\")\n",
        "elif(soma_res == 2):\n",
        "  print(\"Suspeito\")\n",
        "else:\n",
        "  print(\"Liberado, é necessário novas investigações\" ) \n",
        "\n",
        "\n",
        "\n",
        "\n",
        "\n",
        "\n",
        "\n"
      ],
      "metadata": {
        "id": "8qG6ZjD9hgoO"
      },
      "execution_count": null,
      "outputs": []
    },
    {
      "cell_type": "code",
      "source": [
        "#incompleto\n",
        "import random\n",
        "\n",
        "numero = int(input(\"Digite seu numero: \"))\n"
      ],
      "metadata": {
        "id": "1ZG1c1cCtq6z"
      },
      "execution_count": null,
      "outputs": []
    },
    {
      "cell_type": "code",
      "source": [
        "#Vamos fazer um radar eletrônico de velocidade. Faça um programa que leia a velocidade de um carro, \n",
        "#e diga se ele está acima ou não da velocidade permitida de 50 km/h. Se o carro estiver acima da velocidade,\n",
        "#o programa deve imprimir que o motorista ultrapassou a velocidade permitida e recebeu uma multa num determinado valor. \n",
        "#Para calcular o valor da multa, considere que\n",
        "#para cada quilômetro acima da velocidade permitida, \n",
        "#o motorista deve pagar 10 reais.\n",
        "\n",
        "velocidade_limite = 50\n",
        "velocidade_carro = float(input(\"Qual foi a velocidade do carro?: \"))\n",
        "excesso = velocidade_carro - velocidade_limite\n",
        "multa = (excesso*10)\n",
        "\n",
        "\n",
        "if (velocidade_carro == velocidade_limite):\n",
        "  print(\"Velocidade máxima permitida\")\n",
        "elif(velocidade_carro > velocidade_limite):\n",
        "  print(f\"Está acima do limite estabelecido, com o excesso de {excesso} km/h e deverá pagar a multa de {multa} reais\")\n",
        "else:\n",
        "  print(\"Dentro da normalidade\") \n",
        "\n",
        "\n",
        "\n"
      ],
      "metadata": {
        "colab": {
          "base_uri": "https://localhost:8080/"
        },
        "id": "8jr9LI3REgv_",
        "outputId": "d3fdac31-412a-4836-d9b0-3e582114ff30"
      },
      "execution_count": null,
      "outputs": [
        {
          "output_type": "stream",
          "name": "stdout",
          "text": [
            "Qual foi a velocidade do carro?: 51.3\n",
            "Está acima do limite estabelecido, com o excesso de 1.2999999999999972 km/h e deverá pagar a multa de 12.999999999999972 reais\n"
          ]
        }
      ]
    },
    {
      "cell_type": "code",
      "source": [
        "#Com a recomendação que as pessoas fiquem em casa e evitem aglomerações como medida pra frear a contaminação pelo coronavírus, \n",
        "#como saber quando devemos procurar um hospital? Faça um programa que pergunte os sintomas que\n",
        "#a pessoa apresenta e responda se ela deve ou não procurar um hospital.\n",
        "\n",
        "#Sintomas: a. Você tem febre persistente? b. Você tem dificuldade para respirar?\n",
        "#A resposta do programa deve seguir a seguinte tabela:\n",
        "\n",
        "#A\tB\tResultado\n",
        "#Sim\tNão\tFique em casa\n",
        "#Não\tSim\tFique em casa\n",
        "#Não\tNão\tFique em casa\n",
        "#Sim\tSim\tProcure um hospital\n",
        "\n",
        "print(\"Responda com s para sim e n para não\")\n",
        "\n",
        "a = input(\"Você tem febre persistente?: \")\n",
        "b = input(\"Você tem dificuldade de respirar?: \")\n",
        "\n",
        "if(a == \"s\" and b == \"s\"):\n",
        "  print(\"Procure um hospital\")\n",
        "\n",
        "else: \n",
        "  print(\"Fique em casa\")"
      ],
      "metadata": {
        "colab": {
          "base_uri": "https://localhost:8080/"
        },
        "id": "c32ma9hcJmzF",
        "outputId": "1969082b-9fd3-49c5-f1e8-195e3260753c"
      },
      "execution_count": null,
      "outputs": [
        {
          "output_type": "stream",
          "name": "stdout",
          "text": [
            "Responda com s para sim e n para não\n",
            "Você tem febre persistente?: s\n",
            "Você tem dificuldade de respirar?: n\n",
            "Fique em casa\n"
          ]
        }
      ]
    },
    {
      "cell_type": "code",
      "source": [
        "from random import randrange\n",
        "\n",
        "\n",
        "numero = int(input(\"Digite um número: \"))\n",
        "numero_aleatorio = random.sample(range(100), 3)\n",
        "\n",
        "if (numero == numero_aleatorio):\n",
        "  print(\"Você Acertou.\")\n",
        "else:\n",
        "  print(\"Você errou\")\n",
        "\n",
        "\n"
      ],
      "metadata": {
        "colab": {
          "base_uri": "https://localhost:8080/"
        },
        "id": "4vBGplxocVgp",
        "outputId": "6c54c7fa-2ac7-4171-c8b6-1efd3b889cd3"
      },
      "execution_count": null,
      "outputs": [
        {
          "output_type": "stream",
          "name": "stdout",
          "text": [
            "Digite um número: 3\n",
            "Você Acertou.\n"
          ]
        }
      ]
    }
  ]
}